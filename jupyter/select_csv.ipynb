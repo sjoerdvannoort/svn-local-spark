{
 "cells": [
  {
   "cell_type": "code",
   "execution_count": 1,
   "id": "0146d2da",
   "metadata": {},
   "outputs": [
    {
     "name": "stdout",
     "output_type": "stream",
     "text": [
      "spark 3.5.4 http://DESKTOP-4GOMK6M:4041\n"
     ]
    }
   ],
   "source": [
    "from pyspark.sql import SparkSession\n",
    "\n",
    "spark = SparkSession \\\n",
    "    .builder \\\n",
    "    .appName(\"SvnLocalSpark\") \\\n",
    "    .master(\"local\")\\\n",
    "    .getOrCreate()\n",
    "\n",
    "print(f\"spark {spark.version} {spark.sparkContext.uiWebUrl}\")"
   ]
  },
  {
   "cell_type": "code",
   "execution_count": 2,
   "id": "f3d67aa2",
   "metadata": {},
   "outputs": [],
   "source": [
    "%load_ext sparksql_magic"
   ]
  },
  {
   "cell_type": "code",
   "execution_count": 22,
   "id": "da5502db",
   "metadata": {},
   "outputs": [
    {
     "name": "stdout",
     "output_type": "stream",
     "text": [
      "only showing top 20 row(s)\n"
     ]
    },
    {
     "data": {
      "text/html": [
       "<table><tr style=\"border-bottom: 1px solid\"><td style=\"font-weight: bold\">_c0</td><td style=\"font-weight: bold\">_c1</td><td style=\"font-weight: bold\">_c2</td><td style=\"font-weight: bold\">_c3</td><td style=\"font-weight: bold\">_c4</td><td style=\"font-weight: bold\">_c5</td><td style=\"font-weight: bold\">_c6</td><td style=\"font-weight: bold\">_c7</td><td style=\"font-weight: bold\">_c8</td></tr><tr><td>date</td><td>property_id</td><td>street</td><td>street_number</td><td>city</td><td>zip_code</td><td>category</td><td>property_value</td><td>energy_label</td></tr><tr><td>2022-01-01</td><td>P001</td><td>Greensboro Street</td><td>430</td><td>Raleigh</td><td>28457</td><td>Workshop</td><td>230818.13</td><td>A</td></tr><tr><td>2022-01-01</td><td>P002</td><td>Pine Street</td><td>634</td><td>Concord</td><td>27901</td><td>Warehouse</td><td>495643.33</td><td>F</td></tr><tr><td>2022-01-01</td><td>P003</td><td>Tar Heel Drive</td><td>846</td><td>Asheville</td><td>28330</td><td>Office</td><td>227615.59</td><td>A</td></tr><tr><td>2022-01-01</td><td>P004</td><td>Ash Street</td><td>931</td><td>Gastonia</td><td>27064</td><td>Workshop</td><td>414742.28</td><td>F</td></tr><tr><td>2022-01-01</td><td>P005</td><td>Spring Street</td><td>759</td><td>Winston-Salem</td><td>28753</td><td>Warehouse</td><td>286378.57</td><td>C</td></tr><tr><td>2022-01-01</td><td>P006</td><td>Oak Street</td><td>933</td><td>Goldsboro</td><td>28571</td><td>Workshop</td><td>213789.44</td><td>C</td></tr><tr><td>2022-01-01</td><td>P007</td><td>Ridge Road</td><td>90</td><td>Sanford</td><td>27808</td><td>Warehouse</td><td>237823.28</td><td>E</td></tr><tr><td>2022-01-01</td><td>P008</td><td>Tar Heel Drive</td><td>389</td><td>Charlotte</td><td>27023</td><td>Office</td><td>79524.75</td><td>D</td></tr><tr><td>2022-01-01</td><td>P009</td><td>Broad Street</td><td>98</td><td>Durham</td><td>28487</td><td>Office</td><td>55994.98</td><td>C</td></tr><tr><td>2022-01-01</td><td>P010</td><td>Hillcrest Drive</td><td>144</td><td>Concord</td><td>28951</td><td>Workshop</td><td>497786.04</td><td>E</td></tr><tr><td>2022-01-01</td><td>P011</td><td>Spring Street</td><td>419</td><td>Winston-Salem</td><td>28105</td><td>Office</td><td>462020.48</td><td>E</td></tr><tr><td>2022-01-01</td><td>P012</td><td>Carolina Avenue</td><td>847</td><td>Wilmington</td><td>28777</td><td>Office</td><td>187462.36</td><td>C</td></tr><tr><td>2022-01-01</td><td>P013</td><td>Ridge Road</td><td>183</td><td>Gastonia</td><td>28475</td><td>Shop</td><td>280113.31</td><td>C</td></tr><tr><td>2022-01-01</td><td>P014</td><td>Hillcrest Drive</td><td>370</td><td>Monroe</td><td>27776</td><td>Workshop</td><td>152465.09</td><td>D</td></tr><tr><td>2022-01-01</td><td>P015</td><td>Greensboro Street</td><td>483</td><td>Concord</td><td>28022</td><td>Workshop</td><td>211106.16</td><td>C</td></tr><tr><td>2022-01-01</td><td>P016</td><td>Main Street</td><td>176</td><td>Rocky Mount</td><td>28272</td><td>Workshop</td><td>158234.91</td><td>B</td></tr><tr><td>2022-01-01</td><td>P017</td><td>High Street</td><td>945</td><td>Cary</td><td>28280</td><td>Workshop</td><td>177098.37</td><td>B</td></tr><tr><td>2022-01-01</td><td>P018</td><td>Ash Street</td><td>98</td><td>Chapel Hill</td><td>28693</td><td>Shop</td><td>148598.54</td><td>C</td></tr><tr><td>2022-01-01</td><td>P019</td><td>Pine Street</td><td>234</td><td>Raleigh</td><td>28880</td><td>Workshop</td><td>258647.08</td><td>D</td></tr></table>"
      ],
      "text/plain": [
       "<IPython.core.display.HTML object>"
      ]
     },
     "execution_count": 22,
     "metadata": {},
     "output_type": "execute_result"
    }
   ],
   "source": [
    "%%sparksql\n",
    "SELECT *\n",
    "FROM csv.`../resources/sourcedata/commercial_property_snapshots_100_M39.csv` "
   ]
  },
  {
   "cell_type": "code",
   "execution_count": 25,
   "id": "fad0c3df",
   "metadata": {},
   "outputs": [
    {
     "data": {
      "text/html": [
       "<table><tr style=\"border-bottom: 1px solid\"></tr></table>"
      ],
      "text/plain": [
       "<IPython.core.display.HTML object>"
      ]
     },
     "execution_count": 25,
     "metadata": {},
     "output_type": "execute_result"
    }
   ],
   "source": [
    "%%sparksql\n",
    "CREATE OR REPLACE TEMPORARY VIEW cp\n",
    "USING csv\n",
    "OPTIONS (\n",
    "  path '../resources/sourcedata/commercial_property_snapshots_100_M39.csv',\n",
    "  header true,\n",
    "  inferSchema true\n",
    ")"
   ]
  },
  {
   "cell_type": "code",
   "execution_count": 28,
   "id": "a52c4140",
   "metadata": {},
   "outputs": [
    {
     "data": {
      "text/html": [
       "<table><tr style=\"border-bottom: 1px solid\"><td style=\"font-weight: bold\">col_name</td><td style=\"font-weight: bold\">data_type</td><td style=\"font-weight: bold\">comment</td></tr><tr><td>date</td><td>date</td><td>null</td></tr><tr><td>property_id</td><td>string</td><td>null</td></tr><tr><td>street</td><td>string</td><td>null</td></tr><tr><td>street_number</td><td>int</td><td>null</td></tr><tr><td>city</td><td>string</td><td>null</td></tr><tr><td>zip_code</td><td>int</td><td>null</td></tr><tr><td>category</td><td>string</td><td>null</td></tr><tr><td>property_value</td><td>double</td><td>null</td></tr><tr><td>energy_label</td><td>string</td><td>null</td></tr></table>"
      ],
      "text/plain": [
       "<IPython.core.display.HTML object>"
      ]
     },
     "execution_count": 28,
     "metadata": {},
     "output_type": "execute_result"
    }
   ],
   "source": [
    "%%sparksql\n",
    "DESCRIBE cp"
   ]
  },
  {
   "cell_type": "code",
   "execution_count": 21,
   "id": "c859cb83",
   "metadata": {},
   "outputs": [
    {
     "name": "stdout",
     "output_type": "stream",
     "text": [
      "only showing top 20 row(s)\n"
     ]
    },
    {
     "data": {
      "text/html": [
       "<table><tr style=\"border-bottom: 1px solid\"><td style=\"font-weight: bold\">date</td><td style=\"font-weight: bold\">property_id</td><td style=\"font-weight: bold\">street</td><td style=\"font-weight: bold\">street_number</td><td style=\"font-weight: bold\">city</td><td style=\"font-weight: bold\">zip_code</td><td style=\"font-weight: bold\">category</td><td style=\"font-weight: bold\">property_value</td><td style=\"font-weight: bold\">energy_label</td></tr><tr><td>2022-01-01</td><td>P001</td><td>Greensboro Street</td><td>430</td><td>Raleigh</td><td>28457</td><td>Workshop</td><td>230818.13</td><td>A</td></tr><tr><td>2022-01-01</td><td>P002</td><td>Pine Street</td><td>634</td><td>Concord</td><td>27901</td><td>Warehouse</td><td>495643.33</td><td>F</td></tr><tr><td>2022-01-01</td><td>P003</td><td>Tar Heel Drive</td><td>846</td><td>Asheville</td><td>28330</td><td>Office</td><td>227615.59</td><td>A</td></tr><tr><td>2022-01-01</td><td>P004</td><td>Ash Street</td><td>931</td><td>Gastonia</td><td>27064</td><td>Workshop</td><td>414742.28</td><td>F</td></tr><tr><td>2022-01-01</td><td>P005</td><td>Spring Street</td><td>759</td><td>Winston-Salem</td><td>28753</td><td>Warehouse</td><td>286378.57</td><td>C</td></tr><tr><td>2022-01-01</td><td>P006</td><td>Oak Street</td><td>933</td><td>Goldsboro</td><td>28571</td><td>Workshop</td><td>213789.44</td><td>C</td></tr><tr><td>2022-01-01</td><td>P007</td><td>Ridge Road</td><td>90</td><td>Sanford</td><td>27808</td><td>Warehouse</td><td>237823.28</td><td>E</td></tr><tr><td>2022-01-01</td><td>P008</td><td>Tar Heel Drive</td><td>389</td><td>Charlotte</td><td>27023</td><td>Office</td><td>79524.75</td><td>D</td></tr><tr><td>2022-01-01</td><td>P009</td><td>Broad Street</td><td>98</td><td>Durham</td><td>28487</td><td>Office</td><td>55994.98</td><td>C</td></tr><tr><td>2022-01-01</td><td>P010</td><td>Hillcrest Drive</td><td>144</td><td>Concord</td><td>28951</td><td>Workshop</td><td>497786.04</td><td>E</td></tr><tr><td>2022-01-01</td><td>P011</td><td>Spring Street</td><td>419</td><td>Winston-Salem</td><td>28105</td><td>Office</td><td>462020.48</td><td>E</td></tr><tr><td>2022-01-01</td><td>P012</td><td>Carolina Avenue</td><td>847</td><td>Wilmington</td><td>28777</td><td>Office</td><td>187462.36</td><td>C</td></tr><tr><td>2022-01-01</td><td>P013</td><td>Ridge Road</td><td>183</td><td>Gastonia</td><td>28475</td><td>Shop</td><td>280113.31</td><td>C</td></tr><tr><td>2022-01-01</td><td>P014</td><td>Hillcrest Drive</td><td>370</td><td>Monroe</td><td>27776</td><td>Workshop</td><td>152465.09</td><td>D</td></tr><tr><td>2022-01-01</td><td>P015</td><td>Greensboro Street</td><td>483</td><td>Concord</td><td>28022</td><td>Workshop</td><td>211106.16</td><td>C</td></tr><tr><td>2022-01-01</td><td>P016</td><td>Main Street</td><td>176</td><td>Rocky Mount</td><td>28272</td><td>Workshop</td><td>158234.91</td><td>B</td></tr><tr><td>2022-01-01</td><td>P017</td><td>High Street</td><td>945</td><td>Cary</td><td>28280</td><td>Workshop</td><td>177098.37</td><td>B</td></tr><tr><td>2022-01-01</td><td>P018</td><td>Ash Street</td><td>98</td><td>Chapel Hill</td><td>28693</td><td>Shop</td><td>148598.54</td><td>C</td></tr><tr><td>2022-01-01</td><td>P019</td><td>Pine Street</td><td>234</td><td>Raleigh</td><td>28880</td><td>Workshop</td><td>258647.08</td><td>D</td></tr><tr><td>2022-01-01</td><td>P020</td><td>Durham Street</td><td>795</td><td>Concord</td><td>28279</td><td>Warehouse</td><td>197714.05</td><td>D</td></tr></table>"
      ],
      "text/plain": [
       "<IPython.core.display.HTML object>"
      ]
     },
     "execution_count": 21,
     "metadata": {},
     "output_type": "execute_result"
    }
   ],
   "source": [
    "%%sparksql\n",
    "select * \n",
    "from cp"
   ]
  },
  {
   "cell_type": "markdown",
   "id": "e7ddaaa7",
   "metadata": {},
   "source": [
    "read_files appears to be databricks specific and does not work in plain spark sql\n",
    "SELECT *\n",
    "FROM read_files('../resources/sourcedata/commercial_property_snapshots_100_M39.csv',\n",
    "    format => \"csv\",\n",
    "    header => true,\n",
    "    mode => \"FAIL_FAST\",\n",
    "    useStrictGlobber => false\n",
    "    )"
   ]
  }
 ],
 "metadata": {
  "kernelspec": {
   "display_name": "Python 3",
   "language": "python",
   "name": "python3"
  },
  "language_info": {
   "codemirror_mode": {
    "name": "ipython",
    "version": 3
   },
   "file_extension": ".py",
   "mimetype": "text/x-python",
   "name": "python",
   "nbconvert_exporter": "python",
   "pygments_lexer": "ipython3",
   "version": "3.12.7"
  }
 },
 "nbformat": 4,
 "nbformat_minor": 5
}
