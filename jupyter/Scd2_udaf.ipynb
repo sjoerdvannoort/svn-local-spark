{
 "cells": [
  {
   "cell_type": "markdown",
   "id": "972820a0",
   "metadata": {},
   "source": [
    "This example reads snapshot data and creates a slowly changing dimension from it using hashing and window functions."
   ]
  },
  {
   "cell_type": "code",
   "execution_count": null,
   "id": "37407819",
   "metadata": {},
   "outputs": [
    {
     "name": "stdout",
     "output_type": "stream",
     "text": [
      "spark 3.5.4 http://DESKTOP-4GOMK6M:4040\n"
     ]
    }
   ],
   "source": [
    "from pyspark.sql import SparkSession\n",
    "\n",
    "spark = SparkSession \\\n",
    "    .builder \\\n",
    "    .appName(\"SvnLocalSpark\") \\\n",
    "    .config(\"spark.jars\", \"../scala-udaf/target/scala-2.13/svn-local-spark_2.13-0.1.0-SNAPSHOT.jar\") \\\n",
    "    .master(\"local\")\\\n",
    "    .getOrCreate()\n",
    "\n",
    "print(f\"spark {spark.version} {spark.sparkContext.uiWebUrl}\")"
   ]
  },
  {
   "cell_type": "code",
   "execution_count": 2,
   "id": "9ac3afc5",
   "metadata": {},
   "outputs": [],
   "source": [
    "spark.sql(\"CREATE SCHEMA IF NOT EXISTS landing\")\n",
    "# create external table\n",
    "spark.catalog.getDatabase(\"landing\")\n",
    "spark.catalog.createTable(\n",
    "    tableName = \"landing.commercial_properties\",\n",
    "    source = \"csv\",\n",
    "    description = \"property values\",\n",
    "    header=\"true\", delimiter=\",\", path=\"../../../resources/sourcedata/commercial_property_snapshots_100_M39.csv\", inferSchema=\"true\")\n",
    "\n",
    "raw = spark.table(\"landing.commercial_properties\")"
   ]
  },
  {
   "cell_type": "code",
   "execution_count": 3,
   "id": "2dedd318",
   "metadata": {},
   "outputs": [
    {
     "name": "stdout",
     "output_type": "stream",
     "text": [
      "+----------+-----------+---------------+-------------+----------+--------+--------+--------------+------------+\n",
      "|      date|property_id|         street|street_number|      city|zip_code|category|property_value|energy_label|\n",
      "+----------+-----------+---------------+-------------+----------+--------+--------+--------------+------------+\n",
      "|2022-01-01|       P012|Carolina Avenue|          847|Wilmington|   28777|  Office|     187462.36|           C|\n",
      "|2022-01-02|       P012|Carolina Avenue|          847|Wilmington|   28777|  Office|     187462.36|           C|\n",
      "|2022-01-03|       P012|Carolina Avenue|          847|Wilmington|   28777|  Office|     187462.36|           C|\n",
      "|2022-01-04|       P012|Carolina Avenue|          847|Wilmington|   28777|  Office|     187462.36|           C|\n",
      "|2022-01-05|       P012|Carolina Avenue|          847|Wilmington|   28777|  Office|     191214.34|           C|\n",
      "|2022-01-06|       P012|Carolina Avenue|          847|Wilmington|   28777|  Office|     191214.34|           C|\n",
      "|2022-01-07|       P012|Carolina Avenue|          847|Wilmington|   28777|  Office|     191214.34|           C|\n",
      "|2022-01-08|       P012|Carolina Avenue|          847|Wilmington|   28777|  Office|     191214.34|           C|\n",
      "|2022-01-09|       P012|Carolina Avenue|          847|Wilmington|   28777|  Office|     191214.34|           C|\n",
      "|2022-01-10|       P012|Carolina Avenue|          847|Wilmington|   28777|  Office|     191214.34|           C|\n",
      "|2022-01-11|       P012|Carolina Avenue|          847|Wilmington|   28777|  Office|     191214.34|           C|\n",
      "|2022-01-12|       P012|Carolina Avenue|          847|Wilmington|   28777|  Office|     191214.34|           C|\n",
      "|2022-01-13|       P012|Carolina Avenue|          847|Wilmington|   28777|  Office|     191214.34|           C|\n",
      "|2022-01-14|       P012|Carolina Avenue|          847|Wilmington|   28777|  Office|     191214.34|           C|\n",
      "|2022-01-15|       P012|Carolina Avenue|          847|Wilmington|   28777|  Office|     191214.34|           C|\n",
      "|2022-01-16|       P012|Carolina Avenue|          847|Wilmington|   28777|  Office|     191214.34|           C|\n",
      "|2022-01-17|       P012|Carolina Avenue|          847|Wilmington|   28777|  Office|     191214.34|           C|\n",
      "|2022-01-18|       P012|Carolina Avenue|          847|Wilmington|   28777|  Office|     196199.71|           C|\n",
      "|2022-01-19|       P012|Carolina Avenue|          847|Wilmington|   28777|  Office|     196199.71|           C|\n",
      "|2022-01-20|       P012|Carolina Avenue|          847|Wilmington|   28777|  Office|     196199.71|           C|\n",
      "+----------+-----------+---------------+-------------+----------+--------+--------+--------------+------------+\n",
      "\n"
     ]
    }
   ],
   "source": [
    "raw.where(\"property_id='P012'\").orderBy(\"date\").limit(20).show()"
   ]
  },
  {
   "cell_type": "code",
   "execution_count": 4,
   "id": "07b4e166",
   "metadata": {},
   "outputs": [],
   "source": [
    "%load_ext sparksql_magic"
   ]
  },
  {
   "cell_type": "code",
   "execution_count": 8,
   "id": "e14f7338",
   "metadata": {},
   "outputs": [
    {
     "name": "stdout",
     "output_type": "stream",
     "text": [
      "only showing top 20 row(s)\n"
     ]
    },
    {
     "data": {
      "text/html": [
       "<table><tr style=\"border-bottom: 1px solid\"><td style=\"font-weight: bold\">property_id</td><td style=\"font-weight: bold\">valid_from</td><td style=\"font-weight: bold\">valid_to</td><td style=\"font-weight: bold\">street</td><td style=\"font-weight: bold\">street_number</td><td style=\"font-weight: bold\">city</td><td style=\"font-weight: bold\">zip_code</td><td style=\"font-weight: bold\">category</td><td style=\"font-weight: bold\">property_value</td><td style=\"font-weight: bold\">energy_label</td></tr><tr><td>P012</td><td>2022-01-01</td><td>2022-01-05</td><td>Carolina Avenue</td><td>847</td><td>Wilmington</td><td>28777</td><td>Office</td><td>187462.36</td><td>C</td></tr><tr><td>P012</td><td>2022-01-05</td><td>2022-01-18</td><td>Carolina Avenue</td><td>847</td><td>Wilmington</td><td>28777</td><td>Office</td><td>191214.34</td><td>C</td></tr><tr><td>P012</td><td>2022-01-18</td><td>2022-02-19</td><td>Carolina Avenue</td><td>847</td><td>Wilmington</td><td>28777</td><td>Office</td><td>196199.71</td><td>C</td></tr><tr><td>P012</td><td>2022-02-19</td><td>2022-03-13</td><td>Carolina Avenue</td><td>847</td><td>Wilmington</td><td>28777</td><td>Office</td><td>200512.03</td><td>C</td></tr><tr><td>P012</td><td>2022-03-13</td><td>2022-03-29</td><td>Carolina Avenue</td><td>847</td><td>Wilmington</td><td>28777</td><td>Office</td><td>199764.19</td><td>C</td></tr><tr><td>P012</td><td>2022-03-29</td><td>2022-04-26</td><td>Carolina Avenue</td><td>847</td><td>Wilmington</td><td>28777</td><td>Office</td><td>205549.8</td><td>C</td></tr><tr><td>P012</td><td>2022-04-26</td><td>2022-04-29</td><td>Carolina Avenue</td><td>847</td><td>Wilmington</td><td>28777</td><td>Office</td><td>202322.08</td><td>C</td></tr><tr><td>P012</td><td>2022-04-29</td><td>2022-06-02</td><td>Carolina Avenue</td><td>847</td><td>Wilmington</td><td>28777</td><td>Office</td><td>199776.09</td><td>C</td></tr><tr><td>P012</td><td>2022-06-02</td><td>2022-06-07</td><td>Carolina Avenue</td><td>847</td><td>Wilmington</td><td>28777</td><td>Office</td><td>200637.3</td><td>C</td></tr><tr><td>P012</td><td>2022-06-07</td><td>2022-06-19</td><td>Carolina Avenue</td><td>847</td><td>Wilmington</td><td>28777</td><td>Office</td><td>201827.14</td><td>C</td></tr><tr><td>P012</td><td>2022-06-19</td><td>2022-07-02</td><td>Carolina Avenue</td><td>847</td><td>Wilmington</td><td>28777</td><td>Office</td><td>202877.08</td><td>C</td></tr><tr><td>P012</td><td>2022-07-02</td><td>2022-08-05</td><td>Carolina Avenue</td><td>847</td><td>Wilmington</td><td>28777</td><td>Office</td><td>213327.15</td><td>C</td></tr><tr><td>P012</td><td>2022-08-05</td><td>2022-09-14</td><td>Carolina Avenue</td><td>847</td><td>Wilmington</td><td>28777</td><td>Office</td><td>225297.82</td><td>C</td></tr><tr><td>P012</td><td>2022-09-14</td><td>2022-12-04</td><td>Carolina Avenue</td><td>847</td><td>Wilmington</td><td>28777</td><td>Office</td><td>225297.82</td><td>E</td></tr><tr><td>P012</td><td>2022-12-04</td><td>2022-12-09</td><td>Carolina Avenue</td><td>847</td><td>Wilmington</td><td>28777</td><td>Office</td><td>237590.49</td><td>E</td></tr><tr><td>P012</td><td>2022-12-09</td><td>2023-01-26</td><td>Carolina Avenue</td><td>847</td><td>Wilmington</td><td>28777</td><td>Office</td><td>251398.39</td><td>E</td></tr><tr><td>P012</td><td>2023-01-26</td><td>2023-01-31</td><td>Carolina Avenue</td><td>847</td><td>Wilmington</td><td>28777</td><td>Office</td><td>260118.66</td><td>E</td></tr><tr><td>P012</td><td>2023-01-31</td><td>2023-02-14</td><td>Carolina Avenue</td><td>847</td><td>Wilmington</td><td>28777</td><td>Office</td><td>258156.13</td><td>E</td></tr><tr><td>P012</td><td>2023-02-14</td><td>2023-02-23</td><td>Carolina Avenue</td><td>847</td><td>Wilmington</td><td>28777</td><td>Office</td><td>267175.35</td><td>E</td></tr><tr><td>P012</td><td>2023-02-23</td><td>2023-03-10</td><td>Carolina Avenue</td><td>847</td><td>Wilmington</td><td>28777</td><td>Office</td><td>265715.5</td><td>E</td></tr></table>"
      ],
      "text/plain": [
       "<IPython.core.display.HTML object>"
      ]
     },
     "execution_count": 8,
     "metadata": {},
     "output_type": "execute_result"
    }
   ],
   "source": [
    "%%sparksql\n",
    "SELECT property_id\n",
    "    ,`date` AS valid_from\n",
    "    ,COALESCE(LEAD(`date`) OVER(PARTITION BY property_id ORDER BY `date`), to_date('9999-12-31')) AS valid_to    \n",
    "    ,street,street_number,city,zip_code,category,property_value,energy_label\n",
    "FROM (\n",
    "    SELECT *\n",
    "        ,LAG(hash) OVER(PARTITION BY property_id ORDER BY `date`) as prevHash\n",
    "    FROM (\n",
    "        SELECT *\n",
    "            ,SHA2(CONCAT(street,street_number,city,zip_code,category,property_value,energy_label),512) AS hash\n",
    "        FROM landing.commercial_properties) AS t1\n",
    "    ) as t2\n",
    "WHERE (t2.hash<>t2.prevHash OR t2.prevHash IS NULL)\n",
    "AND t2.property_id='P012'\n",
    "ORDER BY t2.`date`"
   ]
  },
  {
   "cell_type": "code",
   "execution_count": null,
   "id": "aaf92d91",
   "metadata": {},
   "outputs": [],
   "source": [
    "java_udf1 = spark.sparkContext._jvm.example.LeadUnequalDateString.register(spark._jsparkSession)"
   ]
  },
  {
   "cell_type": "code",
   "execution_count": null,
   "id": "5b09e243",
   "metadata": {},
   "outputs": [],
   "source": [
    "%%sparksql\n",
    "SELECT property_id\n",
    "    ,`date` AS valid_from\n",
    "    ,valid_to    \n",
    "    ,street,street_number,city,zip_code,category,property_value,energy_label\n",
    "FROM (\n",
    "    SELECT *\n",
    "        ,LAG(hash) OVER(PARTITION BY property_id ORDER BY `date`) as prevHash\n",
    "        ,COALESCE(LEAD_UNEQUAL_DATE_STRING(`date`, hash) OVER(PARTITION BY property_id ORDER BY `date` ROWS BETWEEN CURRENT ROW AND UNBOUNDED FOLLOWING), to_date('9999-12-31')) as valid_to\n",
    "    FROM (\n",
    "        SELECT *\n",
    "            ,SHA2(CONCAT(street,street_number,city,zip_code,category,property_value,energy_label),512) AS hash\n",
    "        FROM landing.commercial_properties) AS t1\n",
    "    ) as t2\n",
    "WHERE (t2.hash<>t2.prevHash OR t2.prevHash IS NULL)\n",
    "AND t2.property_id='P012'\n",
    "ORDER BY t2.`date`"
   ]
  }
 ],
 "metadata": {
  "kernelspec": {
   "display_name": "Python 3",
   "language": "python",
   "name": "python3"
  },
  "language_info": {
   "codemirror_mode": {
    "name": "ipython",
    "version": 3
   },
   "file_extension": ".py",
   "mimetype": "text/x-python",
   "name": "python",
   "nbconvert_exporter": "python",
   "pygments_lexer": "ipython3",
   "version": "3.12.7"
  }
 },
 "nbformat": 4,
 "nbformat_minor": 5
}
