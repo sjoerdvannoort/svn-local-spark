{
 "cells": [
  {
   "cell_type": "markdown",
   "id": "972820a0",
   "metadata": {},
   "source": [
    "This example reads snapshot data and creates a slowly changing dimension from it using hashing and window functions."
   ]
  },
  {
   "cell_type": "code",
   "execution_count": 1,
   "id": "37407819",
   "metadata": {},
   "outputs": [
    {
     "name": "stdout",
     "output_type": "stream",
     "text": [
      "spark 3.5.4 http://DESKTOP-4GOMK6M:4040\n"
     ]
    }
   ],
   "source": [
    "from pyspark.sql import SparkSession\n",
    "\n",
    "spark = SparkSession \\\n",
    "    .builder \\\n",
    "    .appName(\"SvnLocalSpark\") \\\n",
    "    .master(\"local\")\\\n",
    "    .getOrCreate()\n",
    "\n",
    "print(f\"spark {spark.version} {spark.sparkContext.uiWebUrl}\")"
   ]
  },
  {
   "cell_type": "code",
   "execution_count": 2,
   "id": "9ac3afc5",
   "metadata": {},
   "outputs": [
    {
     "name": "stdout",
     "output_type": "stream",
     "text": [
      "root\n",
      " |-- date: date (nullable = true)\n",
      " |-- property_id: string (nullable = true)\n",
      " |-- street: string (nullable = true)\n",
      " |-- street_number: integer (nullable = true)\n",
      " |-- city: string (nullable = true)\n",
      " |-- zip_code: integer (nullable = true)\n",
      " |-- category: string (nullable = true)\n",
      " |-- property_value: double (nullable = true)\n",
      " |-- energy_label: string (nullable = true)\n",
      "\n"
     ]
    }
   ],
   "source": [
    "raw = spark.read.options(delimiter=\",\", header=True, inferSchema=True).csv(\"../resources/sourcedata/commercial_property_snapshots_100_M39.csv\")\n",
    "raw.printSchema()"
   ]
  },
  {
   "cell_type": "code",
   "execution_count": 3,
   "id": "2dedd318",
   "metadata": {},
   "outputs": [
    {
     "name": "stdout",
     "output_type": "stream",
     "text": [
      "+----------+-----------+---------------+-------------+----------+--------+--------+--------------+------------+\n",
      "|      date|property_id|         street|street_number|      city|zip_code|category|property_value|energy_label|\n",
      "+----------+-----------+---------------+-------------+----------+--------+--------+--------------+------------+\n",
      "|2022-01-01|       P012|Carolina Avenue|          847|Wilmington|   28777|  Office|     187462.36|           C|\n",
      "|2022-01-02|       P012|Carolina Avenue|          847|Wilmington|   28777|  Office|     187462.36|           C|\n",
      "|2022-01-03|       P012|Carolina Avenue|          847|Wilmington|   28777|  Office|     187462.36|           C|\n",
      "|2022-01-04|       P012|Carolina Avenue|          847|Wilmington|   28777|  Office|     187462.36|           C|\n",
      "|2022-01-05|       P012|Carolina Avenue|          847|Wilmington|   28777|  Office|     191214.34|           C|\n",
      "|2022-01-06|       P012|Carolina Avenue|          847|Wilmington|   28777|  Office|     191214.34|           C|\n",
      "|2022-01-07|       P012|Carolina Avenue|          847|Wilmington|   28777|  Office|     191214.34|           C|\n",
      "|2022-01-08|       P012|Carolina Avenue|          847|Wilmington|   28777|  Office|     191214.34|           C|\n",
      "|2022-01-09|       P012|Carolina Avenue|          847|Wilmington|   28777|  Office|     191214.34|           C|\n",
      "|2022-01-10|       P012|Carolina Avenue|          847|Wilmington|   28777|  Office|     191214.34|           C|\n",
      "|2022-01-11|       P012|Carolina Avenue|          847|Wilmington|   28777|  Office|     191214.34|           C|\n",
      "|2022-01-12|       P012|Carolina Avenue|          847|Wilmington|   28777|  Office|     191214.34|           C|\n",
      "|2022-01-13|       P012|Carolina Avenue|          847|Wilmington|   28777|  Office|     191214.34|           C|\n",
      "|2022-01-14|       P012|Carolina Avenue|          847|Wilmington|   28777|  Office|     191214.34|           C|\n",
      "|2022-01-15|       P012|Carolina Avenue|          847|Wilmington|   28777|  Office|     191214.34|           C|\n",
      "|2022-01-16|       P012|Carolina Avenue|          847|Wilmington|   28777|  Office|     191214.34|           C|\n",
      "|2022-01-17|       P012|Carolina Avenue|          847|Wilmington|   28777|  Office|     191214.34|           C|\n",
      "|2022-01-18|       P012|Carolina Avenue|          847|Wilmington|   28777|  Office|     196199.71|           C|\n",
      "|2022-01-19|       P012|Carolina Avenue|          847|Wilmington|   28777|  Office|     196199.71|           C|\n",
      "|2022-01-20|       P012|Carolina Avenue|          847|Wilmington|   28777|  Office|     196199.71|           C|\n",
      "+----------+-----------+---------------+-------------+----------+--------+--------+--------------+------------+\n",
      "\n"
     ]
    }
   ],
   "source": [
    "raw.where(\"property_id='P012'\").orderBy(\"date\").limit(20).show()"
   ]
  },
  {
   "cell_type": "code",
   "execution_count": 4,
   "id": "659a1759",
   "metadata": {},
   "outputs": [
    {
     "name": "stdout",
     "output_type": "stream",
     "text": [
      "+-----------+----------+----------+---------------+-------------+----------+--------+--------+--------------+------------+\n",
      "|property_id|valid_from|  valid_to|         street|street_number|      city|zip_code|category|property_value|energy_label|\n",
      "+-----------+----------+----------+---------------+-------------+----------+--------+--------+--------------+------------+\n",
      "|       P012|2022-01-01|2022-01-05|Carolina Avenue|          847|Wilmington|   28777|  Office|     187462.36|           C|\n",
      "|       P012|2022-01-05|2022-01-18|Carolina Avenue|          847|Wilmington|   28777|  Office|     191214.34|           C|\n",
      "|       P012|2022-01-18|2022-02-19|Carolina Avenue|          847|Wilmington|   28777|  Office|     196199.71|           C|\n",
      "|       P012|2022-02-19|2022-03-13|Carolina Avenue|          847|Wilmington|   28777|  Office|     200512.03|           C|\n",
      "|       P012|2022-03-13|2022-03-29|Carolina Avenue|          847|Wilmington|   28777|  Office|     199764.19|           C|\n",
      "|       P012|2022-03-29|2022-04-26|Carolina Avenue|          847|Wilmington|   28777|  Office|      205549.8|           C|\n",
      "|       P012|2022-04-26|2022-04-29|Carolina Avenue|          847|Wilmington|   28777|  Office|     202322.08|           C|\n",
      "|       P012|2022-04-29|2022-06-02|Carolina Avenue|          847|Wilmington|   28777|  Office|     199776.09|           C|\n",
      "|       P012|2022-06-02|2022-06-07|Carolina Avenue|          847|Wilmington|   28777|  Office|      200637.3|           C|\n",
      "|       P012|2022-06-07|2022-06-19|Carolina Avenue|          847|Wilmington|   28777|  Office|     201827.14|           C|\n",
      "|       P012|2022-06-19|2022-07-02|Carolina Avenue|          847|Wilmington|   28777|  Office|     202877.08|           C|\n",
      "|       P012|2022-07-02|2022-08-05|Carolina Avenue|          847|Wilmington|   28777|  Office|     213327.15|           C|\n",
      "|       P012|2022-08-05|2022-09-14|Carolina Avenue|          847|Wilmington|   28777|  Office|     225297.82|           C|\n",
      "|       P012|2022-09-14|2022-12-04|Carolina Avenue|          847|Wilmington|   28777|  Office|     225297.82|           E|\n",
      "|       P012|2022-12-04|2022-12-09|Carolina Avenue|          847|Wilmington|   28777|  Office|     237590.49|           E|\n",
      "|       P012|2022-12-09|2023-01-26|Carolina Avenue|          847|Wilmington|   28777|  Office|     251398.39|           E|\n",
      "|       P012|2023-01-26|2023-01-31|Carolina Avenue|          847|Wilmington|   28777|  Office|     260118.66|           E|\n",
      "|       P012|2023-01-31|2023-02-14|Carolina Avenue|          847|Wilmington|   28777|  Office|     258156.13|           E|\n",
      "|       P012|2023-02-14|2023-02-23|Carolina Avenue|          847|Wilmington|   28777|  Office|     267175.35|           E|\n",
      "|       P012|2023-02-23|2023-03-10|Carolina Avenue|          847|Wilmington|   28777|  Office|      265715.5|           E|\n",
      "+-----------+----------+----------+---------------+-------------+----------+--------+--------+--------------+------------+\n",
      "\n"
     ]
    }
   ],
   "source": [
    "from svn.ingest.Scd2Util import Scd2Util\n",
    "\n",
    "scd =   Scd2Util.fromSnapshots(raw,[\"property_id\"],\"date\")\n",
    "\n",
    "scd.where(\"property_id='P012'\").orderBy(\"date\").limit(20).show()"
   ]
  }
 ],
 "metadata": {
  "kernelspec": {
   "display_name": "Python 3",
   "language": "python",
   "name": "python3"
  },
  "language_info": {
   "codemirror_mode": {
    "name": "ipython",
    "version": 3
   },
   "file_extension": ".py",
   "mimetype": "text/x-python",
   "name": "python",
   "nbconvert_exporter": "python",
   "pygments_lexer": "ipython3",
   "version": "3.12.7"
  }
 },
 "nbformat": 4,
 "nbformat_minor": 5
}
