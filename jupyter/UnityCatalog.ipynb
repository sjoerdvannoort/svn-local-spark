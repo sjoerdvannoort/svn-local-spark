{
 "cells": [
  {
   "cell_type": "code",
   "execution_count": 1,
   "id": "4594f449",
   "metadata": {},
   "outputs": [
    {
     "name": "stdout",
     "output_type": "stream",
     "text": [
      "spark 3.5.4 http://DESKTOP-4GOMK6M:4040\n"
     ]
    }
   ],
   "source": [
    "from pyspark.sql import SparkSession\n",
    "\n",
    "spark = SparkSession \\\n",
    "    .builder \\\n",
    "    .appName(\"SvnLocalSpark\") \\\n",
    "    .config(\"spark.jars.packages\",\"io.delta:delta-spark_2.13:3.3.1,io.unitycatalog:unitycatalog-spark_2.13:0.2.1\")\\\n",
    "    .config(\"spark.sql.extensions\", \"io.delta.sql.DeltaSparkSessionExtension,io.delta.sql.DeltaSparkSessionExtension\")\\\n",
    "    .config(\"spark.sql.catalog.spark_catalog\", \"io.unitycatalog.spark.UCSingleCatalog\")\\\n",
    "    .config(\"spark.sql.catalog.unity\",\"io.unitycatalog.spark.UCSingleCatalog\")\\\n",
    "    .config(\"spark.sql.catalog.unity.uri\",\"http://localhost:8080/api/2.1/unity-catalog/\")\\\n",
    "    .config(\"spark.sql.catalog.unity.token\",\"\")\\\n",
    "    .config(\"spark.sql.catalog.unity.type\",\"rest\")\\\n",
    "    .config(\"spark.sql.catalog.unity.warehouse\", \"unity\")\\\n",
    "    .config(\"spark.sql.warehouse.dir\", \"file:///C:/Users/SjoerdvanNoort/ReposSVN/Data/UC/\")\\\n",
    "    .config(\"spark.databricks.delta.catalog.update.enabled\", \"true\")\\\n",
    "    .config(\"spark.databricks.csv.catalog.update.enabled\", \"true\")\\\n",
    "    .config(\"spark.sql.defaultCatalog\",\"unity\")\\\n",
    "    .master(\"local\")\\\n",
    "    .getOrCreate()\n",
    "\n",
    "print(f\"spark {spark.version} {spark.sparkContext.uiWebUrl}\")"
   ]
  },
  {
   "cell_type": "code",
   "execution_count": 2,
   "id": "0dd47c62",
   "metadata": {},
   "outputs": [],
   "source": [
    "%load_ext sparksql_magic"
   ]
  },
  {
   "cell_type": "code",
   "execution_count": 3,
   "id": "122f4e13",
   "metadata": {},
   "outputs": [
    {
     "data": {
      "text/html": [
       "<table><tr style=\"border-bottom: 1px solid\"><td style=\"font-weight: bold\">namespace</td></tr><tr><td>default</td></tr><tr><td>landing</td></tr><tr><td>vanilladwh</td></tr></table>"
      ],
      "text/plain": [
       "<IPython.core.display.HTML object>"
      ]
     },
     "execution_count": 3,
     "metadata": {},
     "output_type": "execute_result"
    }
   ],
   "source": [
    "%%sparksql\n",
    "SHOW SCHEMAS"
   ]
  },
  {
   "cell_type": "code",
   "execution_count": null,
   "id": "33dfbe1d",
   "metadata": {},
   "outputs": [],
   "source": [
    "%%sparksql\n",
    "SHOW TABLES IN default"
   ]
  },
  {
   "cell_type": "code",
   "execution_count": 4,
   "id": "979d517e",
   "metadata": {},
   "outputs": [
    {
     "name": "stdout",
     "output_type": "stream",
     "text": [
      "only showing top 20 row(s)\n"
     ]
    },
    {
     "data": {
      "text/html": [
       "<table><tr style=\"border-bottom: 1px solid\"><td style=\"font-weight: bold\">first_name</td><td style=\"font-weight: bold\">age</td><td style=\"font-weight: bold\">country</td></tr><tr><td>Crystal Bruce</td><td>24</td><td>Serbia</td></tr><tr><td>Anthony Gonzales</td><td>71</td><td>Serbia</td></tr><tr><td>Christina Hall</td><td>69</td><td>Serbia</td></tr><tr><td>Colleen Spencer</td><td>34</td><td>Serbia</td></tr><tr><td>Brian Smith</td><td>24</td><td>Serbia</td></tr><tr><td>Scott Mcpherson III</td><td>74</td><td>Serbia</td></tr><tr><td>Michael Wolfe</td><td>30</td><td>Serbia</td></tr><tr><td>Virginia Burton</td><td>38</td><td>Serbia</td></tr><tr><td>Rodney Pope</td><td>74</td><td>Serbia</td></tr><tr><td>Gary Wright</td><td>74</td><td>Serbia</td></tr><tr><td>Matthew Jefferson</td><td>42</td><td>Serbia</td></tr><tr><td>Beth Cherry</td><td>71</td><td>Serbia</td></tr><tr><td>Dawn Mendoza</td><td>46</td><td>Serbia</td></tr><tr><td>Katie Montgomery</td><td>47</td><td>Belgia</td></tr><tr><td>Derrick Gonzalez</td><td>55</td><td>Belgia</td></tr><tr><td>Robert Johnson</td><td>26</td><td>Belgia</td></tr><tr><td>Katherine Reyes</td><td>26</td><td>Belgia</td></tr><tr><td>Andrew Cantrell</td><td>59</td><td>Belgia</td></tr><tr><td>Adrienne Morgan</td><td>45</td><td>Belgia</td></tr><tr><td>Crystal Jones</td><td>73</td><td>Belgia</td></tr></table>"
      ],
      "text/plain": [
       "<IPython.core.display.HTML object>"
      ]
     },
     "execution_count": 4,
     "metadata": {},
     "output_type": "execute_result"
    }
   ],
   "source": [
    "%%sparksql\n",
    "SELECT * FROM default.user_countries"
   ]
  },
  {
   "cell_type": "code",
   "execution_count": null,
   "id": "5140d3e7",
   "metadata": {},
   "outputs": [],
   "source": [
    "%%sparksql\n",
    "SELECT country , count(1) nr_users, avg(age) avg_age\n",
    "FROM default.user_countries\n",
    "GROUP BY country"
   ]
  },
  {
   "cell_type": "code",
   "execution_count": null,
   "id": "74d5c5fa",
   "metadata": {},
   "outputs": [],
   "source": [
    "%%sparksql\n",
    "CREATE SCHEMA IF NOT EXISTS landing"
   ]
  },
  {
   "cell_type": "code",
   "execution_count": null,
   "id": "58ba2603",
   "metadata": {},
   "outputs": [],
   "source": [
    "spark.catalog.getDatabase(\"landing\")\n",
    "spark.catalog.createTable(\n",
    "    tableName = \"landing.commercial_properties\",\n",
    "    source = \"csv\",\n",
    "    description = \"property values\",\n",
    "    header=\"true\", delimiter=\",\", path=\"/Users/SjoerdvanNoort/ReposSVN/svn-local-spark/resources/sourcedata/commercial_property_snapshots_100_M39.csv\", inferSchema=\"true\")"
   ]
  },
  {
   "cell_type": "code",
   "execution_count": null,
   "id": "bb0f49b8",
   "metadata": {},
   "outputs": [],
   "source": [
    "spark.catalog.getDatabase(\"landing\")\n",
    "spark.catalog.createTable(\n",
    "    tableName = \"landing.commercial_propertiesV2\",\n",
    "    source = \"csv\",\n",
    "    description = \"property values\",\n",
    "    header=\"true\", delimiter=\",\", location=\"file:///C:/Users/SjoerdvanNoort/ReposSVN/svn-local-spark/resources/sourcedata/commercial_property_snapshots_100_M39.csv\", inferSchema=\"true\")"
   ]
  },
  {
   "cell_type": "code",
   "execution_count": null,
   "id": "affb3667",
   "metadata": {},
   "outputs": [],
   "source": [
    "spark.catalog.getDatabase(\"landing\")\n",
    "spark.catalog.createTable(\n",
    "    tableName = \"landing.commercial_propertiesV3\",\n",
    "    source = \"csv\",\n",
    "    description = \"property values\",\n",
    "    header=\"true\", delimiter=\",\", path=\"file:///C:/Users/SjoerdvanNoort/ReposSVN/svn-local-spark/resources/sourcedata/commercial_property_snapshots_100_M39.csv\", inferSchema=\"true\")"
   ]
  },
  {
   "cell_type": "code",
   "execution_count": null,
   "id": "25130d72",
   "metadata": {},
   "outputs": [],
   "source": [
    "%%sparksql\n",
    "CREATE TABLE landing.test1(\n",
    "    ColA string,\n",
    "    ColB string,\n",
    "    ColC double\n",
    ")\n",
    "USING delta\n",
    "LOCATION 'file:///C:/Users/SjoerdvanNoort/ReposSVN/Data/UC/landing/test1'"
   ]
  },
  {
   "cell_type": "code",
   "execution_count": null,
   "id": "04e7ed47",
   "metadata": {},
   "outputs": [],
   "source": [
    "%%sparksql\n",
    "USE landing"
   ]
  },
  {
   "cell_type": "code",
   "execution_count": null,
   "id": "4e336efe",
   "metadata": {},
   "outputs": [],
   "source": [
    "%%sparksql\n",
    "SELECT * \n",
    "FROM unity.landing.commercial_propertiesV3"
   ]
  },
  {
   "cell_type": "code",
   "execution_count": null,
   "id": "9ad74d9e",
   "metadata": {},
   "outputs": [],
   "source": [
    "%%sparksql\n",
    "CREATE SCHEMA IF NOT EXISTS vanilladwh\n",
    "LOCATION 'file:///C:/Users/SjoerdvanNoort/ReposSVN/Data/UC/vanilla_data'"
   ]
  },
  {
   "cell_type": "code",
   "execution_count": null,
   "id": "193e751b",
   "metadata": {},
   "outputs": [],
   "source": []
  },
  {
   "cell_type": "code",
   "execution_count": null,
   "id": "e3229174",
   "metadata": {},
   "outputs": [],
   "source": [
    "from datetime import datetime, date\n",
    "from pyspark.sql.functions import lit\n",
    "\n",
    "current_date = datetime.strptime(\"2023-01-01\", '%Y-%m-%d')\n",
    "file_path = f\"../resources/generated/commercial_property/{current_date.strftime('%Y')}/{current_date.strftime('%m')}/commercial_property_snapshot_{current_date.strftime('%Y%m%d')}.csv\"\n",
    "inp = spark.read.option(\"header\", True).option(\"inferSchema\", True).csv(file_path)\\\n",
    "    .withColumn(\"date\", lit(current_date))\n",
    "\n",
    "#inp.show()S\n",
    "\n",
    "#inp.write.format(\"delta\").option('path','file:///C:/Users/SjoerdvanNoort/ReposSVN/Data/UC/vanilla_data/test2').saveAsTable(\"vanilladwh.test2\")\n",
    "inp.write.format(\"delta\").saveAsTable(\"unity.vanilladwh.test2\")"
   ]
  },
  {
   "cell_type": "code",
   "execution_count": null,
   "id": "9829d6ea",
   "metadata": {},
   "outputs": [],
   "source": [
    "%%sparksql\n",
    "SELECT * from vanilladwh.test2"
   ]
  }
 ],
 "metadata": {
  "kernelspec": {
   "display_name": "Python 3 (ipykernel)",
   "language": "python",
   "name": "python3"
  },
  "language_info": {
   "codemirror_mode": {
    "name": "ipython",
    "version": 3
   },
   "file_extension": ".py",
   "mimetype": "text/x-python",
   "name": "python",
   "nbconvert_exporter": "python",
   "pygments_lexer": "ipython3",
   "version": "3.12.7"
  }
 },
 "nbformat": 4,
 "nbformat_minor": 5
}
