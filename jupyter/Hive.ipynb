{
 "cells": [
  {
   "cell_type": "markdown",
   "id": "01f93d0b",
   "metadata": {},
   "source": [
    "Create a Hive enabled spark session, with a persisted derby metastore. Start Hive Thrift server to enable JDBC connections."
   ]
  },
  {
   "cell_type": "code",
   "execution_count": 1,
   "id": "51aef6dc",
   "metadata": {},
   "outputs": [
    {
     "name": "stdout",
     "output_type": "stream",
     "text": [
      "spark 3.5.4 http://DESKTOP-4GOMK6M:4042\n"
     ]
    }
   ],
   "source": [
    "from pyspark.sql import SparkSession\n",
    "\n",
    "spark = SparkSession \\\n",
    "    .builder \\\n",
    "    .appName(\"SvnLocalSpark\")\\\n",
    "    .enableHiveSupport()\\\n",
    "    .getOrCreate()\n",
    "\n",
    "sc = spark.sparkContext\n",
    "\n",
    "print(f\"spark {spark.version} {sc.uiWebUrl}\")"
   ]
  },
  {
   "cell_type": "code",
   "execution_count": 2,
   "id": "77a32fb8",
   "metadata": {},
   "outputs": [
    {
     "data": {
      "text/plain": [
       "DataFrame[date: date, property_id: string, street: string, street_number: int, city: string, zip_code: int, category: string, property_value: double, energy_label: string]"
      ]
     },
     "execution_count": 2,
     "metadata": {},
     "output_type": "execute_result"
    }
   ],
   "source": [
    "spark.sql(\"CREATE SCHEMA IF NOT EXISTS landing\")\n",
    "# create external table\n",
    "spark.catalog.getDatabase(\"landing\")\n",
    "spark.sql(\"DROP TABLE IF EXISTS landing.properties\")\n",
    "spark.catalog.createTable(\n",
    "    tableName = \"landing.commercial_properties\",\n",
    "    source = \"csv\",\n",
    "    description = \"property values\",\n",
    "    header=\"true\", delimiter=\",\", path=\"../../../resources/sourcedata/commercial_property_snapshots_100_M39.csv\", inferSchema=\"true\")"
   ]
  },
  {
   "cell_type": "code",
   "execution_count": 3,
   "id": "c3b287f5",
   "metadata": {},
   "outputs": [
    {
     "name": "stdout",
     "output_type": "stream",
     "text": [
      "database: default\n",
      "database: landing\n",
      "table:commercial_properties\n",
      "current database:default\n"
     ]
    }
   ],
   "source": [
    "for db in spark.catalog.listDatabases():\n",
    "    print(f\"database: {db.name}\")\n",
    "    for tbl in spark.catalog.listTables(db.name):\n",
    "        print(f\"table:{tbl.name}\")\n",
    "print(f\"current database:{spark.catalog.currentDatabase()}\")"
   ]
  },
  {
   "cell_type": "code",
   "execution_count": null,
   "id": "993ec4ce",
   "metadata": {},
   "outputs": [],
   "source": [
    "# Start Hive Thrift Server\n",
    "java_args = sc._gateway.new_array(sc._gateway.jvm.java.lang.String,2)\n",
    "java_args[0]=\"dummy\"\n",
    "java_args[1]=\"false\"\n",
    "\n",
    "sc._jvm.org.apache.spark.sql.hive.thriftserver.HiveThriftServer2.main(java_args)"
   ]
  }
 ],
 "metadata": {
  "kernelspec": {
   "display_name": "Python 3",
   "language": "python",
   "name": "python3"
  },
  "language_info": {
   "codemirror_mode": {
    "name": "ipython",
    "version": 3
   },
   "file_extension": ".py",
   "mimetype": "text/x-python",
   "name": "python",
   "nbconvert_exporter": "python",
   "pygments_lexer": "ipython3",
   "version": "3.12.7"
  }
 },
 "nbformat": 4,
 "nbformat_minor": 5
}
