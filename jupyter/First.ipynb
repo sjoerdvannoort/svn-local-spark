{
 "cells": [
  {
   "cell_type": "markdown",
   "id": "2749b4bb-2559-4200-b9c8-c9487f7cca86",
   "metadata": {},
   "source": [
    "Simple example creating a local spark session, an (external) table and selection data using spark sql and pyspark."
   ]
  },
  {
   "cell_type": "code",
   "execution_count": 1,
   "id": "437d68c3-322d-466a-8344-884e3a7bde23",
   "metadata": {},
   "outputs": [
    {
     "name": "stdout",
     "output_type": "stream",
     "text": [
      "spark 3.5.4 http://DESKTOP-4GOMK6M:4040\n"
     ]
    }
   ],
   "source": [
    "from pyspark.sql import SparkSession\n",
    "\n",
    "spark = SparkSession \\\n",
    "    .builder \\\n",
    "    .appName(\"SvnLocalSpark\") \\\n",
    "    .master(\"local\")\\\n",
    "    .getOrCreate()\n",
    "\n",
    "print(f\"spark {spark.version} {spark.sparkContext.uiWebUrl}\")"
   ]
  },
  {
   "cell_type": "code",
   "execution_count": 2,
   "id": "aa722d3e-c3c1-48e1-8d3e-a12ccc8a95f5",
   "metadata": {},
   "outputs": [
    {
     "name": "stdout",
     "output_type": "stream",
     "text": [
      "+----------+-----------+-----------------+-------------+-------------+--------+---------+--------------+------------+\n",
      "|      date|property_id|           street|street_number|         city|zip_code| category|property_value|energy_label|\n",
      "+----------+-----------+-----------------+-------------+-------------+--------+---------+--------------+------------+\n",
      "|2022-01-01|       P001|Greensboro Street|          430|      Raleigh|   28457| Workshop|     230818.13|           A|\n",
      "|2022-01-01|       P002|      Pine Street|          634|      Concord|   27901|Warehouse|     495643.33|           F|\n",
      "|2022-01-01|       P003|   Tar Heel Drive|          846|    Asheville|   28330|   Office|     227615.59|           A|\n",
      "|2022-01-01|       P004|       Ash Street|          931|     Gastonia|   27064| Workshop|     414742.28|           F|\n",
      "|2022-01-01|       P005|    Spring Street|          759|Winston-Salem|   28753|Warehouse|     286378.57|           C|\n",
      "|2022-01-01|       P006|       Oak Street|          933|    Goldsboro|   28571| Workshop|     213789.44|           C|\n",
      "|2022-01-01|       P007|       Ridge Road|           90|      Sanford|   27808|Warehouse|     237823.28|           E|\n",
      "|2022-01-01|       P008|   Tar Heel Drive|          389|    Charlotte|   27023|   Office|      79524.75|           D|\n",
      "|2022-01-01|       P009|     Broad Street|           98|       Durham|   28487|   Office|      55994.98|           C|\n",
      "|2022-01-01|       P010|  Hillcrest Drive|          144|      Concord|   28951| Workshop|     497786.04|           E|\n",
      "+----------+-----------+-----------------+-------------+-------------+--------+---------+--------------+------------+\n",
      "\n"
     ]
    }
   ],
   "source": [
    "spark.sql(\"CREATE SCHEMA IF NOT EXISTS landing\")\n",
    "# create external table\n",
    "spark.catalog.getDatabase(\"landing\")\n",
    "spark.catalog.createTable(\n",
    "    tableName = \"landing.commercial_properties\",\n",
    "    source = \"csv\",\n",
    "    description = \"property values\",\n",
    "    header=\"true\", delimiter=\",\", path=\"../../../resources/sourcedata/commercial_property_snapshots_100_M39.csv\", inferSchema=\"true\")\n",
    "\n",
    "raw = spark.table(\"landing.commercial_properties\")\n",
    "raw.limit(10).show()"
   ]
  },
  {
   "cell_type": "code",
   "execution_count": 3,
   "id": "9aaece8f",
   "metadata": {},
   "outputs": [],
   "source": [
    "%load_ext sparksql_magic"
   ]
  },
  {
   "cell_type": "code",
   "execution_count": 4,
   "id": "f052d124",
   "metadata": {},
   "outputs": [
    {
     "data": {
      "text/html": [
       "<table><tr style=\"border-bottom: 1px solid\"><td style=\"font-weight: bold\">total_rows</td><td style=\"font-weight: bold\">total_snapshots</td><td style=\"font-weight: bold\">total_properties</td><td style=\"font-weight: bold\">cities</td></tr><tr><td>118600</td><td>1186</td><td>100</td><td>25</td></tr></table>"
      ],
      "text/plain": [
       "<IPython.core.display.HTML object>"
      ]
     },
     "execution_count": 4,
     "metadata": {},
     "output_type": "execute_result"
    }
   ],
   "source": [
    "%%sparksql\n",
    "SELECT COUNT(1) AS total_rows\n",
    "    , COUNT(DISTINCT `date`) AS total_snapshots\n",
    "    , COUNT(DISTINCT property_id) AS total_properties\n",
    "    , COUNT(DISTINCT city) AS cities\n",
    "FROM landing.commercial_properties"
   ]
  }
 ],
 "metadata": {
  "kernelspec": {
   "display_name": "Python 3",
   "language": "python",
   "name": "python3"
  },
  "language_info": {
   "codemirror_mode": {
    "name": "ipython",
    "version": 3
   },
   "file_extension": ".py",
   "mimetype": "text/x-python",
   "name": "python",
   "nbconvert_exporter": "python",
   "pygments_lexer": "ipython3",
   "version": "3.12.7"
  }
 },
 "nbformat": 4,
 "nbformat_minor": 5
}
