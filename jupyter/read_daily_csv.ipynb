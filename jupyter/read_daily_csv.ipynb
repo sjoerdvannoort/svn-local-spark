{
 "cells": [
  {
   "cell_type": "markdown",
   "id": "a589b958",
   "metadata": {},
   "source": [
    "read daily csv, add date from csv path\n",
    "run \"gen_daily_prop_csv\" notebook first to generate the files referenced here."
   ]
  },
  {
   "cell_type": "code",
   "execution_count": 2,
   "id": "776b9ecd",
   "metadata": {},
   "outputs": [
    {
     "name": "stdout",
     "output_type": "stream",
     "text": [
      "spark 3.5.4 http://DESKTOP-4GOMK6M:4040\n"
     ]
    }
   ],
   "source": [
    "from pyspark.sql import SparkSession\n",
    "\n",
    "spark = SparkSession \\\n",
    "    .builder \\\n",
    "    .appName(\"SvnLocalSpark\") \\\n",
    "    .master(\"local\")\\\n",
    "    .getOrCreate()\n",
    "\n",
    "print(f\"spark {spark.version} {spark.sparkContext.uiWebUrl}\")"
   ]
  },
  {
   "cell_type": "code",
   "execution_count": null,
   "id": "679e7ca8",
   "metadata": {},
   "outputs": [
    {
     "name": "stdout",
     "output_type": "stream",
     "text": [
      "+-----------+----------+-------------+------+--------+--------+--------------+------------+--------------------+-------+----------+\n",
      "|property_id|    street|street_number|  city|zip_code|category|property_value|energy_label|                  fn|datepos|      date|\n",
      "+-----------+----------+-------------+------+--------+--------+--------------+------------+--------------------+-------+----------+\n",
      "|       P011|Ash Street|          923|Durham|   28440|  Office|    1250185.25|           F|file:///c:/Users/...|    105|2025-01-01|\n",
      "|       P011|Ash Street|          923|Durham|   28440|  Office|    1250185.25|           F|file:///c:/Users/...|    105|2025-01-02|\n",
      "|       P011|Ash Street|          923|Durham|   28440|  Office|    1250185.25|           F|file:///c:/Users/...|    105|2025-01-03|\n",
      "|       P011|Ash Street|          923|Durham|   28440|  Office|    1250185.25|           F|file:///c:/Users/...|    105|2025-01-04|\n",
      "|       P011|Ash Street|          923|Durham|   28440|  Office|    1250185.25|           F|file:///c:/Users/...|    105|2025-01-05|\n",
      "|       P011|Ash Street|          923|Durham|   28440|  Office|    1335016.21|           F|file:///c:/Users/...|    105|2025-03-16|\n",
      "|       P011|Ash Street|          923|Durham|   28440|  Office|    1335016.21|           F|file:///c:/Users/...|    105|2025-03-19|\n",
      "|       P011|Ash Street|          923|Durham|   28440|  Office|    1250185.25|           F|file:///c:/Users/...|    105|2024-12-31|\n",
      "|       P011|Ash Street|          923|Durham|   28440|  Office|    1250185.25|           F|file:///c:/Users/...|    105|2025-01-06|\n",
      "|       P011|Ash Street|          923|Durham|   28440|  Office|    1276479.35|           F|file:///c:/Users/...|    105|2025-01-07|\n",
      "|       P011|Ash Street|          923|Durham|   28440|  Office|    1276479.35|           F|file:///c:/Users/...|    105|2025-01-08|\n",
      "|       P011|Ash Street|          923|Durham|   28440|  Office|    1276479.35|           F|file:///c:/Users/...|    105|2025-01-09|\n",
      "|       P011|Ash Street|          923|Durham|   28440|  Office|    1276479.35|           F|file:///c:/Users/...|    105|2025-02-23|\n",
      "|       P011|Ash Street|          923|Durham|   28440|  Office|    1335016.21|           F|file:///c:/Users/...|    105|2025-03-14|\n",
      "|       P011|Ash Street|          923|Durham|   28440|  Office|    1335016.21|           F|file:///c:/Users/...|    105|2025-03-15|\n",
      "|       P011|Ash Street|          923|Durham|   28440|  Office|    1335016.21|           F|file:///c:/Users/...|    105|2025-03-18|\n",
      "|       P011|Ash Street|          923|Durham|   28440|  Office|    1335016.21|           F|file:///c:/Users/...|    105|2025-03-25|\n",
      "|       P011|Ash Street|          923|Durham|   28440|  Office|    1335016.21|           F|file:///c:/Users/...|    105|2025-03-26|\n",
      "|       P011|Ash Street|          923|Durham|   28440|  Office|    1335016.21|           F|file:///c:/Users/...|    105|2025-03-27|\n",
      "|       P011|Ash Street|          923|Durham|   28440|  Office|    1138507.99|           F|file:///c:/Users/...|    105|2024-10-10|\n",
      "+-----------+----------+-------------+------+--------+--------+--------------+------------+--------------------+-------+----------+\n",
      "only showing top 20 rows\n",
      "\n"
     ]
    }
   ],
   "source": [
    "from  pyspark.sql.functions import input_file_name, locate, col,substring,  expr\n",
    "\n",
    "raw = spark.read.option(\"header\", True).csv(\"../resources/generated/commercial_property/*/*\")\n",
    "raw.withColumn(\"fn\", input_file_name())\\\n",
    "    .withColumn(\"datepos\", locate(\"/commercial_property_snapshot_\",col(\"fn\")))\\\n",
    "    .withColumn(\"date\",expr(\"to_date(substring(fn,datepos + 30, 8), 'yyyyMMdd')\"))\\\n",
    "    .where(\"property_id='P011'\").show()"
   ]
  },
  {
   "cell_type": "code",
   "execution_count": null,
   "id": "ead8c063",
   "metadata": {},
   "outputs": [],
   "source": []
  }
 ],
 "metadata": {
  "kernelspec": {
   "display_name": "Python 3",
   "language": "python",
   "name": "python3"
  },
  "language_info": {
   "codemirror_mode": {
    "name": "ipython",
    "version": 3
   },
   "file_extension": ".py",
   "mimetype": "text/x-python",
   "name": "python",
   "nbconvert_exporter": "python",
   "pygments_lexer": "ipython3",
   "version": "3.12.7"
  }
 },
 "nbformat": 4,
 "nbformat_minor": 5
}
