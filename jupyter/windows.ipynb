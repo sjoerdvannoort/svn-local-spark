{
 "cells": [
  {
   "cell_type": "code",
   "execution_count": 1,
   "id": "ca1c5c68",
   "metadata": {},
   "outputs": [
    {
     "name": "stdout",
     "output_type": "stream",
     "text": [
      "spark 3.5.4 http://DESKTOP-4GOMK6M:4040\n"
     ]
    }
   ],
   "source": [
    "from pyspark.sql import SparkSession\n",
    "\n",
    "spark = SparkSession \\\n",
    "    .builder \\\n",
    "    .appName(\"SvnLocalSpark\") \\\n",
    "    .config(\"spark.jars\", \"../scala-udaf/target/scala-2.13/svn-local-spark_2.13-0.1.0-SNAPSHOT.jar\") \\\n",
    "    .master(\"local\")\\\n",
    "    .getOrCreate()\n",
    "\n",
    "print(f\"spark {spark.version} {spark.sparkContext.uiWebUrl}\")"
   ]
  },
  {
   "cell_type": "code",
   "execution_count": 2,
   "id": "f494abb4",
   "metadata": {},
   "outputs": [],
   "source": [
    "spark.sql(\"CREATE SCHEMA IF NOT EXISTS landing\")\n",
    "# create external table\n",
    "spark.catalog.getDatabase(\"landing\")\n",
    "spark.catalog.createTable(\n",
    "    tableName = \"landing.commercial_properties\",\n",
    "    source = \"csv\",\n",
    "    description = \"property values\",\n",
    "    header=\"true\", delimiter=\",\", path=\"../../../resources/sourcedata/commercial_property_snapshots_100_M39.csv\", inferSchema=\"true\")\n",
    "\n",
    "java_udf1 = spark.sparkContext._jvm.spark.udaf.LeadUnequalDateString.register(spark._jsparkSession)"
   ]
  },
  {
   "cell_type": "code",
   "execution_count": 3,
   "id": "c172db90",
   "metadata": {},
   "outputs": [],
   "source": [
    "%load_ext sparksql_magic"
   ]
  },
  {
   "cell_type": "code",
   "execution_count": 4,
   "id": "3f8a33ef",
   "metadata": {},
   "outputs": [
    {
     "data": {
      "text/html": [
       "<table><tr style=\"border-bottom: 1px solid\"><td style=\"font-weight: bold\">property_id</td><td style=\"font-weight: bold\">city</td><td style=\"font-weight: bold\">property_value</td><td style=\"font-weight: bold\">energy_label</td><td style=\"font-weight: bold\">green</td><td style=\"font-weight: bold\">up_or_downgrade</td></tr><tr><td>P001</td><td>Raleigh</td><td>528302.48</td><td>F</td><td>Non-green</td><td>2022-10-29</td></tr><tr><td>P002</td><td>Concord</td><td>1152838.35</td><td>F</td><td>Non-green</td><td>2023-12-15</td></tr><tr><td>P003</td><td>Asheville</td><td>471126.83</td><td>A</td><td>Green</td><td>null</td></tr><tr><td>P004</td><td>Gastonia</td><td>1413682.53</td><td>D</td><td>Non-green</td><td>null</td></tr><tr><td>P005</td><td>Winston-Salem</td><td>593854.47</td><td>E</td><td>Non-green</td><td>null</td></tr><tr><td>P006</td><td>Goldsboro</td><td>649366.59</td><td>F</td><td>Non-green</td><td>2024-09-26</td></tr><tr><td>P007</td><td>Sanford</td><td>620120.98</td><td>C</td><td>Non-green</td><td>null</td></tr><tr><td>P008</td><td>Charlotte</td><td>185266.36</td><td>D</td><td>Non-green</td><td>null</td></tr><tr><td>P009</td><td>Durham</td><td>132990.29</td><td>C</td><td>Non-green</td><td>2023-07-19</td></tr><tr><td>P010</td><td>Concord</td><td>1318484.42</td><td>E</td><td>Non-green</td><td>null</td></tr><tr><td>P011</td><td>Winston-Salem</td><td>1124454.16</td><td>E</td><td>Non-green</td><td>null</td></tr><tr><td>P012</td><td>Wilmington</td><td>468170.4</td><td>C</td><td>Non-green</td><td>null</td></tr><tr><td>P013</td><td>Gastonia</td><td>908367.29</td><td>F</td><td>Non-green</td><td>null</td></tr><tr><td>P014</td><td>Monroe</td><td>356037.44</td><td>A</td><td>Green</td><td>2023-02-05</td></tr><tr><td>P015</td><td>Concord</td><td>401243.99</td><td>E</td><td>Non-green</td><td>2024-12-22</td></tr><tr><td>P016</td><td>Rocky Mount</td><td>333092.65</td><td>A</td><td>Green</td><td>2024-08-28</td></tr><tr><td>P017</td><td>Cary</td><td>314421.62</td><td>A</td><td>Green</td><td>2022-04-05</td></tr><tr><td>P018</td><td>Chapel Hill</td><td>472506.9</td><td>E</td><td>Non-green</td><td>null</td></tr><tr><td>P019</td><td>Raleigh</td><td>453612.51</td><td>C</td><td>Non-green</td><td>null</td></tr><tr><td>P020</td><td>Concord</td><td>403566.0</td><td>D</td><td>Non-green</td><td>null</td></tr><tr><td>P021</td><td>Winston-Salem</td><td>606762.45</td><td>F</td><td>Non-green</td><td>2024-12-30</td></tr><tr><td>P022</td><td>Indian Trail</td><td>289411.34</td><td>D</td><td>Non-green</td><td>2024-12-08</td></tr><tr><td>P023</td><td>Indian Trail</td><td>149621.91</td><td>D</td><td>Non-green</td><td>2024-07-14</td></tr><tr><td>P024</td><td>Hickory</td><td>185433.39</td><td>F</td><td>Non-green</td><td>null</td></tr><tr><td>P025</td><td>Concord</td><td>620434.6</td><td>F</td><td>Non-green</td><td>2024-03-02</td></tr><tr><td>P026</td><td>Fayetteville</td><td>1029340.16</td><td>A</td><td>Green</td><td>2024-09-20</td></tr><tr><td>P027</td><td>Fayetteville</td><td>293684.98</td><td>D</td><td>Non-green</td><td>2022-04-26</td></tr><tr><td>P028</td><td>Monroe</td><td>543586.0</td><td>D</td><td>Non-green</td><td>null</td></tr><tr><td>P029</td><td>Wilmington</td><td>295949.6</td><td>F</td><td>Non-green</td><td>2023-04-19</td></tr><tr><td>P030</td><td>Indian Trail</td><td>574204.97</td><td>F</td><td>Non-green</td><td>null</td></tr><tr><td>P031</td><td>Mooresville</td><td>1175667.27</td><td>C</td><td>Non-green</td><td>null</td></tr><tr><td>P032</td><td>Chapel Hill</td><td>547251.9</td><td>B</td><td>Green</td><td>2022-05-02</td></tr><tr><td>P033</td><td>Greensboro</td><td>545243.76</td><td>D</td><td>Non-green</td><td>null</td></tr><tr><td>P034</td><td>Cary</td><td>434209.59</td><td>A</td><td>Green</td><td>2024-09-16</td></tr><tr><td>P035</td><td>Wilmington</td><td>177881.71</td><td>E</td><td>Non-green</td><td>null</td></tr><tr><td>P036</td><td>Rocky Mount</td><td>866393.44</td><td>D</td><td>Non-green</td><td>2024-10-25</td></tr><tr><td>P037</td><td>Fayetteville</td><td>688276.77</td><td>E</td><td>Non-green</td><td>null</td></tr><tr><td>P038</td><td>High Point</td><td>782098.19</td><td>F</td><td>Non-green</td><td>null</td></tr><tr><td>P039</td><td>Wilson</td><td>378919.35</td><td>E</td><td>Non-green</td><td>null</td></tr><tr><td>P040</td><td>Rocky Mount</td><td>1146380.87</td><td>A</td><td>Green</td><td>null</td></tr><tr><td>P041</td><td>Rocky Mount</td><td>948492.65</td><td>D</td><td>Non-green</td><td>2023-01-28</td></tr><tr><td>P042</td><td>Concord</td><td>261526.86</td><td>F</td><td>Non-green</td><td>2024-03-09</td></tr><tr><td>P043</td><td>Concord</td><td>798829.13</td><td>C</td><td>Non-green</td><td>2024-06-29</td></tr><tr><td>P044</td><td>Mooresville</td><td>709859.69</td><td>A</td><td>Green</td><td>2024-01-24</td></tr><tr><td>P045</td><td>Gastonia</td><td>363863.95</td><td>B</td><td>Green</td><td>2022-08-05</td></tr><tr><td>P046</td><td>Asheville</td><td>991764.85</td><td>E</td><td>Non-green</td><td>2023-11-25</td></tr><tr><td>P047</td><td>Fayetteville</td><td>888303.0</td><td>F</td><td>Non-green</td><td>null</td></tr><tr><td>P048</td><td>Wilmington</td><td>296473.25</td><td>C</td><td>Non-green</td><td>2022-02-13</td></tr><tr><td>P049</td><td>Sanford</td><td>827896.23</td><td>A</td><td>Green</td><td>2023-05-12</td></tr><tr><td>P050</td><td>Wilmington</td><td>1038393.56</td><td>A</td><td>Green</td><td>2023-09-19</td></tr><tr><td>P051</td><td>Mooresville</td><td>914930.78</td><td>E</td><td>Non-green</td><td>2022-07-21</td></tr><tr><td>P052</td><td>Durham</td><td>247981.32</td><td>E</td><td>Non-green</td><td>2024-07-31</td></tr><tr><td>P053</td><td>Chapel Hill</td><td>630372.43</td><td>F</td><td>Non-green</td><td>2023-03-10</td></tr><tr><td>P054</td><td>Indian Trail</td><td>866160.33</td><td>E</td><td>Non-green</td><td>2022-02-19</td></tr><tr><td>P055</td><td>Wilson</td><td>884221.0</td><td>B</td><td>Green</td><td>2024-09-23</td></tr><tr><td>P056</td><td>Winston-Salem</td><td>380334.92</td><td>D</td><td>Non-green</td><td>null</td></tr><tr><td>P057</td><td>Chapel Hill</td><td>381056.23</td><td>B</td><td>Green</td><td>2024-09-19</td></tr><tr><td>P058</td><td>Apex</td><td>678845.09</td><td>B</td><td>Green</td><td>2023-03-15</td></tr><tr><td>P059</td><td>Rocky Mount</td><td>938640.02</td><td>E</td><td>Non-green</td><td>null</td></tr><tr><td>P060</td><td>Apex</td><td>631439.56</td><td>E</td><td>Non-green</td><td>null</td></tr><tr><td>P061</td><td>Gastonia</td><td>291149.19</td><td>F</td><td>Non-green</td><td>null</td></tr><tr><td>P062</td><td>Sanford</td><td>431124.89</td><td>B</td><td>Green</td><td>2022-07-29</td></tr><tr><td>P063</td><td>Goldsboro</td><td>590120.47</td><td>C</td><td>Non-green</td><td>2024-08-29</td></tr><tr><td>P064</td><td>Hickory</td><td>708933.41</td><td>A</td><td>Green</td><td>null</td></tr><tr><td>P065</td><td>Apex</td><td>854398.54</td><td>B</td><td>Green</td><td>2022-01-10</td></tr><tr><td>P066</td><td>Gastonia</td><td>766999.0</td><td>E</td><td>Non-green</td><td>2024-08-01</td></tr><tr><td>P067</td><td>Hickory</td><td>1006318.8</td><td>E</td><td>Non-green</td><td>null</td></tr><tr><td>P068</td><td>Raleigh</td><td>99690.47</td><td>C</td><td>Non-green</td><td>null</td></tr><tr><td>P069</td><td>High Point</td><td>135957.78</td><td>E</td><td>Non-green</td><td>null</td></tr><tr><td>P070</td><td>Gastonia</td><td>1078536.39</td><td>B</td><td>Green</td><td>2024-05-03</td></tr><tr><td>P071</td><td>Asheville</td><td>973468.17</td><td>F</td><td>Non-green</td><td>null</td></tr><tr><td>P072</td><td>Rocky Mount</td><td>878349.66</td><td>C</td><td>Non-green</td><td>null</td></tr><tr><td>P073</td><td>Wilmington</td><td>1506965.22</td><td>E</td><td>Non-green</td><td>null</td></tr><tr><td>P074</td><td>Durham</td><td>530275.08</td><td>E</td><td>Non-green</td><td>null</td></tr><tr><td>P075</td><td>Huntersville</td><td>647988.52</td><td>E</td><td>Non-green</td><td>null</td></tr><tr><td>P076</td><td>Winston-Salem</td><td>231917.61</td><td>A</td><td>Green</td><td>null</td></tr><tr><td>P077</td><td>Wilmington</td><td>128570.39</td><td>A</td><td>Green</td><td>2024-11-06</td></tr><tr><td>P078</td><td>Fayetteville</td><td>674695.83</td><td>C</td><td>Non-green</td><td>2023-12-02</td></tr><tr><td>P079</td><td>Indian Trail</td><td>293775.35</td><td>A</td><td>Green</td><td>null</td></tr><tr><td>P080</td><td>Monroe</td><td>734951.97</td><td>C</td><td>Non-green</td><td>null</td></tr><tr><td>P081</td><td>Kannapolis</td><td>1320065.91</td><td>F</td><td>Non-green</td><td>null</td></tr><tr><td>P082</td><td>Durham</td><td>410054.02</td><td>B</td><td>Green</td><td>null</td></tr><tr><td>P083</td><td>Apex</td><td>545217.61</td><td>B</td><td>Green</td><td>null</td></tr><tr><td>P084</td><td>Asheville</td><td>263999.98</td><td>B</td><td>Green</td><td>2024-03-03</td></tr><tr><td>P085</td><td>Sanford</td><td>508966.42</td><td>A</td><td>Green</td><td>2024-07-28</td></tr><tr><td>P086</td><td>Chapel Hill</td><td>447988.92</td><td>E</td><td>Non-green</td><td>null</td></tr><tr><td>P087</td><td>Indian Trail</td><td>606870.62</td><td>A</td><td>Green</td><td>2023-02-15</td></tr><tr><td>P088</td><td>Fayetteville</td><td>1114561.18</td><td>D</td><td>Non-green</td><td>null</td></tr><tr><td>P089</td><td>Sanford</td><td>153309.44</td><td>E</td><td>Non-green</td><td>2023-03-25</td></tr><tr><td>P090</td><td>Mooresville</td><td>577121.71</td><td>B</td><td>Green</td><td>2023-10-07</td></tr><tr><td>P091</td><td>Charlotte</td><td>685752.27</td><td>D</td><td>Non-green</td><td>2023-09-24</td></tr><tr><td>P092</td><td>Huntersville</td><td>841330.96</td><td>E</td><td>Non-green</td><td>2024-03-02</td></tr><tr><td>P093</td><td>Burlington</td><td>347743.3</td><td>C</td><td>Non-green</td><td>null</td></tr><tr><td>P094</td><td>Huntersville</td><td>469136.31</td><td>F</td><td>Non-green</td><td>null</td></tr><tr><td>P095</td><td>Huntersville</td><td>926902.9</td><td>E</td><td>Non-green</td><td>2022-06-03</td></tr><tr><td>P096</td><td>Gastonia</td><td>524047.47</td><td>A</td><td>Green</td><td>2024-02-04</td></tr><tr><td>P097</td><td>Concord</td><td>482310.5</td><td>A</td><td>Green</td><td>2022-05-15</td></tr><tr><td>P098</td><td>Monroe</td><td>366147.9</td><td>C</td><td>Non-green</td><td>2023-07-31</td></tr><tr><td>P099</td><td>Charlotte</td><td>342123.46</td><td>E</td><td>Non-green</td><td>2023-02-05</td></tr><tr><td>P100</td><td>Mooresville</td><td>1067421.69</td><td>E</td><td>Non-green</td><td>null</td></tr></table>"
      ],
      "text/plain": [
       "<IPython.core.display.HTML object>"
      ]
     },
     "execution_count": 4,
     "metadata": {},
     "output_type": "execute_result"
    }
   ],
   "source": [
    "%%sparksql -l 150\n",
    "SELECT cp.property_id, cp.city, cp.property_value, cp.energy_label\n",
    ",CASE WHEN energy_label IN ('A','B') THEN 'Green' Else 'Non-green' END AS green\n",
    ",hlp1.up_or_downgrade\n",
    "FROM landing.commercial_properties AS cp\n",
    "LEFT OUTER JOIN (SELECT property_id\n",
    "        ,CASE WHEN energy_label IN ('A','B') THEN 'Green' Else 'Non-green' END AS green\n",
    "        ,MAX(`date`) AS up_or_downgrade\n",
    "        FROM landing.commercial_properties\n",
    "        WHERE  `date`<date \"2024-12-31\"\n",
    "        GROUP BY 1,2) AS hlp1\n",
    "    ON hlp1.property_id = cp.property_id \n",
    "    AND hlp1.green <> CASE WHEN cp.energy_label IN ('A','B') THEN 'Green' Else 'Non-green' END\n",
    "WHERE cp.`date`=date \"2024-12-31\""
   ]
  },
  {
   "cell_type": "code",
   "execution_count": 5,
   "id": "3cacc6b1",
   "metadata": {},
   "outputs": [
    {
     "data": {
      "text/html": [
       "<table><tr style=\"border-bottom: 1px solid\"><td style=\"font-weight: bold\">date</td><td style=\"font-weight: bold\">property_id</td><td style=\"font-weight: bold\">city</td><td style=\"font-weight: bold\">property_value</td><td style=\"font-weight: bold\">energy_label</td><td style=\"font-weight: bold\">green</td><td style=\"font-weight: bold\">up_or_downgrade</td></tr><tr><td>2024-12-31</td><td>P001</td><td>Raleigh</td><td>528302.48</td><td>F</td><td>Non-green</td><td>2022-10-29</td></tr><tr><td>2024-12-31</td><td>P002</td><td>Concord</td><td>1152838.35</td><td>F</td><td>Non-green</td><td>2023-12-15</td></tr><tr><td>2024-12-31</td><td>P003</td><td>Asheville</td><td>471126.83</td><td>A</td><td>Green</td><td>null</td></tr><tr><td>2024-12-31</td><td>P004</td><td>Gastonia</td><td>1413682.53</td><td>D</td><td>Non-green</td><td>null</td></tr><tr><td>2024-12-31</td><td>P005</td><td>Winston-Salem</td><td>593854.47</td><td>E</td><td>Non-green</td><td>null</td></tr><tr><td>2024-12-31</td><td>P006</td><td>Goldsboro</td><td>649366.59</td><td>F</td><td>Non-green</td><td>2024-09-26</td></tr><tr><td>2024-12-31</td><td>P007</td><td>Sanford</td><td>620120.98</td><td>C</td><td>Non-green</td><td>null</td></tr><tr><td>2024-12-31</td><td>P008</td><td>Charlotte</td><td>185266.36</td><td>D</td><td>Non-green</td><td>null</td></tr><tr><td>2024-12-31</td><td>P009</td><td>Durham</td><td>132990.29</td><td>C</td><td>Non-green</td><td>2023-07-19</td></tr><tr><td>2024-12-31</td><td>P010</td><td>Concord</td><td>1318484.42</td><td>E</td><td>Non-green</td><td>null</td></tr><tr><td>2024-12-31</td><td>P011</td><td>Winston-Salem</td><td>1124454.16</td><td>E</td><td>Non-green</td><td>null</td></tr><tr><td>2024-12-31</td><td>P012</td><td>Wilmington</td><td>468170.4</td><td>C</td><td>Non-green</td><td>null</td></tr><tr><td>2024-12-31</td><td>P013</td><td>Gastonia</td><td>908367.29</td><td>F</td><td>Non-green</td><td>null</td></tr><tr><td>2024-12-31</td><td>P014</td><td>Monroe</td><td>356037.44</td><td>A</td><td>Green</td><td>2023-02-05</td></tr><tr><td>2024-12-31</td><td>P015</td><td>Concord</td><td>401243.99</td><td>E</td><td>Non-green</td><td>2024-12-22</td></tr><tr><td>2024-12-31</td><td>P016</td><td>Rocky Mount</td><td>333092.65</td><td>A</td><td>Green</td><td>2024-08-28</td></tr><tr><td>2024-12-31</td><td>P017</td><td>Cary</td><td>314421.62</td><td>A</td><td>Green</td><td>2022-04-05</td></tr><tr><td>2024-12-31</td><td>P018</td><td>Chapel Hill</td><td>472506.9</td><td>E</td><td>Non-green</td><td>null</td></tr><tr><td>2024-12-31</td><td>P019</td><td>Raleigh</td><td>453612.51</td><td>C</td><td>Non-green</td><td>null</td></tr><tr><td>2024-12-31</td><td>P020</td><td>Concord</td><td>403566.0</td><td>D</td><td>Non-green</td><td>null</td></tr><tr><td>2024-12-31</td><td>P021</td><td>Winston-Salem</td><td>606762.45</td><td>F</td><td>Non-green</td><td>2024-12-30</td></tr><tr><td>2024-12-31</td><td>P022</td><td>Indian Trail</td><td>289411.34</td><td>D</td><td>Non-green</td><td>2024-12-08</td></tr><tr><td>2024-12-31</td><td>P023</td><td>Indian Trail</td><td>149621.91</td><td>D</td><td>Non-green</td><td>2024-07-14</td></tr><tr><td>2024-12-31</td><td>P024</td><td>Hickory</td><td>185433.39</td><td>F</td><td>Non-green</td><td>null</td></tr><tr><td>2024-12-31</td><td>P025</td><td>Concord</td><td>620434.6</td><td>F</td><td>Non-green</td><td>2024-03-02</td></tr><tr><td>2024-12-31</td><td>P026</td><td>Fayetteville</td><td>1029340.16</td><td>A</td><td>Green</td><td>2024-09-20</td></tr><tr><td>2024-12-31</td><td>P027</td><td>Fayetteville</td><td>293684.98</td><td>D</td><td>Non-green</td><td>2022-04-26</td></tr><tr><td>2024-12-31</td><td>P028</td><td>Monroe</td><td>543586.0</td><td>D</td><td>Non-green</td><td>null</td></tr><tr><td>2024-12-31</td><td>P029</td><td>Wilmington</td><td>295949.6</td><td>F</td><td>Non-green</td><td>2023-04-19</td></tr><tr><td>2024-12-31</td><td>P030</td><td>Indian Trail</td><td>574204.97</td><td>F</td><td>Non-green</td><td>null</td></tr><tr><td>2024-12-31</td><td>P031</td><td>Mooresville</td><td>1175667.27</td><td>C</td><td>Non-green</td><td>null</td></tr><tr><td>2024-12-31</td><td>P032</td><td>Chapel Hill</td><td>547251.9</td><td>B</td><td>Green</td><td>2022-05-02</td></tr><tr><td>2024-12-31</td><td>P033</td><td>Greensboro</td><td>545243.76</td><td>D</td><td>Non-green</td><td>null</td></tr><tr><td>2024-12-31</td><td>P034</td><td>Cary</td><td>434209.59</td><td>A</td><td>Green</td><td>2024-09-16</td></tr><tr><td>2024-12-31</td><td>P035</td><td>Wilmington</td><td>177881.71</td><td>E</td><td>Non-green</td><td>null</td></tr><tr><td>2024-12-31</td><td>P036</td><td>Rocky Mount</td><td>866393.44</td><td>D</td><td>Non-green</td><td>2024-10-25</td></tr><tr><td>2024-12-31</td><td>P037</td><td>Fayetteville</td><td>688276.77</td><td>E</td><td>Non-green</td><td>null</td></tr><tr><td>2024-12-31</td><td>P038</td><td>High Point</td><td>782098.19</td><td>F</td><td>Non-green</td><td>null</td></tr><tr><td>2024-12-31</td><td>P039</td><td>Wilson</td><td>378919.35</td><td>E</td><td>Non-green</td><td>null</td></tr><tr><td>2024-12-31</td><td>P040</td><td>Rocky Mount</td><td>1146380.87</td><td>A</td><td>Green</td><td>null</td></tr><tr><td>2024-12-31</td><td>P041</td><td>Rocky Mount</td><td>948492.65</td><td>D</td><td>Non-green</td><td>2023-01-28</td></tr><tr><td>2024-12-31</td><td>P042</td><td>Concord</td><td>261526.86</td><td>F</td><td>Non-green</td><td>2024-03-09</td></tr><tr><td>2024-12-31</td><td>P043</td><td>Concord</td><td>798829.13</td><td>C</td><td>Non-green</td><td>2024-06-29</td></tr><tr><td>2024-12-31</td><td>P044</td><td>Mooresville</td><td>709859.69</td><td>A</td><td>Green</td><td>2024-01-24</td></tr><tr><td>2024-12-31</td><td>P045</td><td>Gastonia</td><td>363863.95</td><td>B</td><td>Green</td><td>2022-08-05</td></tr><tr><td>2024-12-31</td><td>P046</td><td>Asheville</td><td>991764.85</td><td>E</td><td>Non-green</td><td>2023-11-25</td></tr><tr><td>2024-12-31</td><td>P047</td><td>Fayetteville</td><td>888303.0</td><td>F</td><td>Non-green</td><td>null</td></tr><tr><td>2024-12-31</td><td>P048</td><td>Wilmington</td><td>296473.25</td><td>C</td><td>Non-green</td><td>2022-02-13</td></tr><tr><td>2024-12-31</td><td>P049</td><td>Sanford</td><td>827896.23</td><td>A</td><td>Green</td><td>2023-05-12</td></tr><tr><td>2024-12-31</td><td>P050</td><td>Wilmington</td><td>1038393.56</td><td>A</td><td>Green</td><td>2023-09-19</td></tr><tr><td>2024-12-31</td><td>P051</td><td>Mooresville</td><td>914930.78</td><td>E</td><td>Non-green</td><td>2022-07-21</td></tr><tr><td>2024-12-31</td><td>P052</td><td>Durham</td><td>247981.32</td><td>E</td><td>Non-green</td><td>2024-07-31</td></tr><tr><td>2024-12-31</td><td>P053</td><td>Chapel Hill</td><td>630372.43</td><td>F</td><td>Non-green</td><td>2023-03-10</td></tr><tr><td>2024-12-31</td><td>P054</td><td>Indian Trail</td><td>866160.33</td><td>E</td><td>Non-green</td><td>2022-02-19</td></tr><tr><td>2024-12-31</td><td>P055</td><td>Wilson</td><td>884221.0</td><td>B</td><td>Green</td><td>2024-09-23</td></tr><tr><td>2024-12-31</td><td>P056</td><td>Winston-Salem</td><td>380334.92</td><td>D</td><td>Non-green</td><td>null</td></tr><tr><td>2024-12-31</td><td>P057</td><td>Chapel Hill</td><td>381056.23</td><td>B</td><td>Green</td><td>2024-09-19</td></tr><tr><td>2024-12-31</td><td>P058</td><td>Apex</td><td>678845.09</td><td>B</td><td>Green</td><td>2023-03-15</td></tr><tr><td>2024-12-31</td><td>P059</td><td>Rocky Mount</td><td>938640.02</td><td>E</td><td>Non-green</td><td>null</td></tr><tr><td>2024-12-31</td><td>P060</td><td>Apex</td><td>631439.56</td><td>E</td><td>Non-green</td><td>null</td></tr><tr><td>2024-12-31</td><td>P061</td><td>Gastonia</td><td>291149.19</td><td>F</td><td>Non-green</td><td>null</td></tr><tr><td>2024-12-31</td><td>P062</td><td>Sanford</td><td>431124.89</td><td>B</td><td>Green</td><td>2022-07-29</td></tr><tr><td>2024-12-31</td><td>P063</td><td>Goldsboro</td><td>590120.47</td><td>C</td><td>Non-green</td><td>2024-08-29</td></tr><tr><td>2024-12-31</td><td>P064</td><td>Hickory</td><td>708933.41</td><td>A</td><td>Green</td><td>null</td></tr><tr><td>2024-12-31</td><td>P065</td><td>Apex</td><td>854398.54</td><td>B</td><td>Green</td><td>2022-01-10</td></tr><tr><td>2024-12-31</td><td>P066</td><td>Gastonia</td><td>766999.0</td><td>E</td><td>Non-green</td><td>2024-08-01</td></tr><tr><td>2024-12-31</td><td>P067</td><td>Hickory</td><td>1006318.8</td><td>E</td><td>Non-green</td><td>null</td></tr><tr><td>2024-12-31</td><td>P068</td><td>Raleigh</td><td>99690.47</td><td>C</td><td>Non-green</td><td>null</td></tr><tr><td>2024-12-31</td><td>P069</td><td>High Point</td><td>135957.78</td><td>E</td><td>Non-green</td><td>null</td></tr><tr><td>2024-12-31</td><td>P070</td><td>Gastonia</td><td>1078536.39</td><td>B</td><td>Green</td><td>2024-05-03</td></tr><tr><td>2024-12-31</td><td>P071</td><td>Asheville</td><td>973468.17</td><td>F</td><td>Non-green</td><td>null</td></tr><tr><td>2024-12-31</td><td>P072</td><td>Rocky Mount</td><td>878349.66</td><td>C</td><td>Non-green</td><td>null</td></tr><tr><td>2024-12-31</td><td>P073</td><td>Wilmington</td><td>1506965.22</td><td>E</td><td>Non-green</td><td>null</td></tr><tr><td>2024-12-31</td><td>P074</td><td>Durham</td><td>530275.08</td><td>E</td><td>Non-green</td><td>null</td></tr><tr><td>2024-12-31</td><td>P075</td><td>Huntersville</td><td>647988.52</td><td>E</td><td>Non-green</td><td>null</td></tr><tr><td>2024-12-31</td><td>P076</td><td>Winston-Salem</td><td>231917.61</td><td>A</td><td>Green</td><td>null</td></tr><tr><td>2024-12-31</td><td>P077</td><td>Wilmington</td><td>128570.39</td><td>A</td><td>Green</td><td>2024-11-06</td></tr><tr><td>2024-12-31</td><td>P078</td><td>Fayetteville</td><td>674695.83</td><td>C</td><td>Non-green</td><td>2023-12-02</td></tr><tr><td>2024-12-31</td><td>P079</td><td>Indian Trail</td><td>293775.35</td><td>A</td><td>Green</td><td>null</td></tr><tr><td>2024-12-31</td><td>P080</td><td>Monroe</td><td>734951.97</td><td>C</td><td>Non-green</td><td>null</td></tr><tr><td>2024-12-31</td><td>P081</td><td>Kannapolis</td><td>1320065.91</td><td>F</td><td>Non-green</td><td>null</td></tr><tr><td>2024-12-31</td><td>P082</td><td>Durham</td><td>410054.02</td><td>B</td><td>Green</td><td>null</td></tr><tr><td>2024-12-31</td><td>P083</td><td>Apex</td><td>545217.61</td><td>B</td><td>Green</td><td>null</td></tr><tr><td>2024-12-31</td><td>P084</td><td>Asheville</td><td>263999.98</td><td>B</td><td>Green</td><td>2024-03-03</td></tr><tr><td>2024-12-31</td><td>P085</td><td>Sanford</td><td>508966.42</td><td>A</td><td>Green</td><td>2024-07-28</td></tr><tr><td>2024-12-31</td><td>P086</td><td>Chapel Hill</td><td>447988.92</td><td>E</td><td>Non-green</td><td>null</td></tr><tr><td>2024-12-31</td><td>P087</td><td>Indian Trail</td><td>606870.62</td><td>A</td><td>Green</td><td>2023-02-15</td></tr><tr><td>2024-12-31</td><td>P088</td><td>Fayetteville</td><td>1114561.18</td><td>D</td><td>Non-green</td><td>null</td></tr><tr><td>2024-12-31</td><td>P089</td><td>Sanford</td><td>153309.44</td><td>E</td><td>Non-green</td><td>2023-03-25</td></tr><tr><td>2024-12-31</td><td>P090</td><td>Mooresville</td><td>577121.71</td><td>B</td><td>Green</td><td>2023-10-07</td></tr><tr><td>2024-12-31</td><td>P091</td><td>Charlotte</td><td>685752.27</td><td>D</td><td>Non-green</td><td>2023-09-24</td></tr><tr><td>2024-12-31</td><td>P092</td><td>Huntersville</td><td>841330.96</td><td>E</td><td>Non-green</td><td>2024-03-02</td></tr><tr><td>2024-12-31</td><td>P093</td><td>Burlington</td><td>347743.3</td><td>C</td><td>Non-green</td><td>null</td></tr><tr><td>2024-12-31</td><td>P094</td><td>Huntersville</td><td>469136.31</td><td>F</td><td>Non-green</td><td>null</td></tr><tr><td>2024-12-31</td><td>P095</td><td>Huntersville</td><td>926902.9</td><td>E</td><td>Non-green</td><td>2022-06-03</td></tr><tr><td>2024-12-31</td><td>P096</td><td>Gastonia</td><td>524047.47</td><td>A</td><td>Green</td><td>2024-02-04</td></tr><tr><td>2024-12-31</td><td>P097</td><td>Concord</td><td>482310.5</td><td>A</td><td>Green</td><td>2022-05-15</td></tr><tr><td>2024-12-31</td><td>P098</td><td>Monroe</td><td>366147.9</td><td>C</td><td>Non-green</td><td>2023-07-31</td></tr><tr><td>2024-12-31</td><td>P099</td><td>Charlotte</td><td>342123.46</td><td>E</td><td>Non-green</td><td>2023-02-05</td></tr><tr><td>2024-12-31</td><td>P100</td><td>Mooresville</td><td>1067421.69</td><td>E</td><td>Non-green</td><td>null</td></tr></table>"
      ],
      "text/plain": [
       "<IPython.core.display.HTML object>"
      ]
     },
     "execution_count": 5,
     "metadata": {},
     "output_type": "execute_result"
    }
   ],
   "source": [
    "%%sparksql -l 150\n",
    "SELECT *\n",
    "FROM (\n",
    "    SELECT cp.`date`, cp.property_id, cp.city, cp.property_value, cp.energy_label\n",
    "    ,CASE WHEN energy_label IN ('A','B') THEN 'Green' Else 'Non-green' END AS green\n",
    "    ,LEAD_UNEQUAL_DATE_STRING(`date`, CASE WHEN energy_label IN ('A','B') THEN 'Green' Else 'Non-green' END) \n",
    "        OVER(PARTITION BY property_id ORDER BY `date` DESC ROWS BETWEEN CURRENT ROW AND UNBOUNDED FOLLOWING) as up_or_downgrade\n",
    "    FROM landing.commercial_properties AS cp) as t1\n",
    "WHERE t1.`date`=date \"2024-12-31\""
   ]
  }
 ],
 "metadata": {
  "kernelspec": {
   "display_name": "Python 3",
   "language": "python",
   "name": "python3"
  },
  "language_info": {
   "codemirror_mode": {
    "name": "ipython",
    "version": 3
   },
   "file_extension": ".py",
   "mimetype": "text/x-python",
   "name": "python",
   "nbconvert_exporter": "python",
   "pygments_lexer": "ipython3",
   "version": "3.12.7"
  }
 },
 "nbformat": 4,
 "nbformat_minor": 5
}
