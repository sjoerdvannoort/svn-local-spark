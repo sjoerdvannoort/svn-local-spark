{
 "cells": [
  {
   "cell_type": "markdown",
   "id": "01f93d0b",
   "metadata": {},
   "source": [
    "Create a Hive enabled spark session, with a persisted derby metastore. Start Hive Thrift server to enable JDBC connections."
   ]
  },
  {
   "cell_type": "code",
   "execution_count": 1,
   "id": "51aef6dc",
   "metadata": {},
   "outputs": [
    {
     "name": "stdout",
     "output_type": "stream",
     "text": [
      "spark 4.0.0 http://DESKTOP-4GOMK6M:4040\n"
     ]
    }
   ],
   "source": [
    "from pyspark.sql import SparkSession\n",
    "\n",
    "spark = SparkSession \\\n",
    "    .builder \\\n",
    "    .appName(\"SvnLocalSpark\")\\\n",
    "    .config(\"spark.sql.warehouse.dir\", \"../spark-data\")\\\n",
    "    .config(\"spark.hadoop.javax.jdo.option.ConnectionURL\", \"jdbc:derby:;databaseName=../hive_metastore_db;create=true\")\\\n",
    "    .enableHiveSupport()\\\n",
    "    .getOrCreate()\n",
    "\n",
    "sc = spark.sparkContext\n",
    "\n",
    "print(f\"spark {spark.version} {sc.uiWebUrl}\")"
   ]
  },
  {
   "cell_type": "code",
   "execution_count": 2,
   "id": "c3b287f5",
   "metadata": {},
   "outputs": [
    {
     "name": "stdout",
     "output_type": "stream",
     "text": [
      "database: copytest\n",
      "table:commercial_property\n",
      "database: default\n",
      "database: dwh_sales\n",
      "table:dim_customer\n",
      "table:dim_product\n",
      "table:dim_store\n",
      "table:fact_sales\n",
      "database: landing\n",
      "table:commercial_properties\n",
      "database: sales_demo\n",
      "table:calculations\n",
      "table:customers\n",
      "table:products\n",
      "table:sales_details\n",
      "table:sales_orders\n",
      "table:stores\n",
      "current database:default\n"
     ]
    }
   ],
   "source": [
    "for db in spark.catalog.listDatabases():\n",
    "    print(f\"database: {db.name}\")\n",
    "    for tbl in spark.catalog.listTables(db.name):\n",
    "        print(f\"table:{tbl.name}\")\n",
    "print(f\"current database:{spark.catalog.currentDatabase()}\")"
   ]
  },
  {
   "cell_type": "code",
   "execution_count": 3,
   "id": "993ec4ce",
   "metadata": {},
   "outputs": [],
   "source": [
    "# Start Hive Thrift Server\n",
    "java_args = sc._gateway.new_array(sc._gateway.jvm.java.lang.String,2)\n",
    "java_args[0]=\"dummy\"\n",
    "java_args[1]=\"false\"\n",
    "\n",
    "sc._jvm.org.apache.spark.sql.hive.thriftserver.HiveThriftServer2.main(java_args)"
   ]
  },
  {
   "cell_type": "code",
   "execution_count": 4,
   "id": "b6448c01",
   "metadata": {},
   "outputs": [],
   "source": [
    "%load_ext sparksql_magic"
   ]
  },
  {
   "cell_type": "code",
   "execution_count": 7,
   "id": "93bd67c4",
   "metadata": {},
   "outputs": [
    {
     "data": {
      "text/html": [
       "<table><tr style=\"border-bottom: 1px solid\"><td style=\"font-weight: bold\">now()</td></tr><tr><td>2025-06-02 15:48:35.845327</td></tr></table>"
      ],
      "text/plain": [
       "<IPython.core.display.HTML object>"
      ]
     },
     "execution_count": 7,
     "metadata": {},
     "output_type": "execute_result"
    }
   ],
   "source": [
    "%%sparksql\n",
    "/* describe extended dwh_sales.fact_sales */\n",
    "SELECT NOW()"
   ]
  }
 ],
 "metadata": {
  "kernelspec": {
   "display_name": "Python 3",
   "language": "python",
   "name": "python3"
  },
  "language_info": {
   "codemirror_mode": {
    "name": "ipython",
    "version": 3
   },
   "file_extension": ".py",
   "mimetype": "text/x-python",
   "name": "python",
   "nbconvert_exporter": "python",
   "pygments_lexer": "ipython3",
   "version": "3.12.7"
  }
 },
 "nbformat": 4,
 "nbformat_minor": 5
}
