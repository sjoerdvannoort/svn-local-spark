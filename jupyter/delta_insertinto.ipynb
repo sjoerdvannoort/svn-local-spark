{
 "cells": [
  {
   "cell_type": "code",
   "execution_count": 1,
   "id": "0d540122",
   "metadata": {},
   "outputs": [
    {
     "name": "stdout",
     "output_type": "stream",
     "text": [
      "spark 3.5.4 http://DESKTOP-4GOMK6M:4040\n"
     ]
    }
   ],
   "source": [
    "from pyspark.sql import SparkSession\n",
    "\n",
    "spark = SparkSession \\\n",
    "    .builder \\\n",
    "    .appName(\"SvnLocalSpark\") \\\n",
    "    .config(\"spark.sql.warehouse.dir\", \"../delta-data-tmp\")\\\n",
    "    .config(\"spark.jars.packages\",\"io.delta:delta-spark_2.13:3.3.0\")\\\n",
    "    .config(\"spark.sql.extensions\", \"io.delta.sql.DeltaSparkSessionExtension\")\\\n",
    "    .config(\"spark.sql.catalog.spark_catalog\", \"org.apache.spark.sql.delta.catalog.DeltaCatalog\")\\\n",
    "    .master(\"local\")\\\n",
    "    .getOrCreate()\n",
    "\n",
    "print(f\"spark {spark.version} {spark.sparkContext.uiWebUrl}\")"
   ]
  },
  {
   "cell_type": "code",
   "execution_count": 2,
   "id": "1874f843",
   "metadata": {},
   "outputs": [],
   "source": [
    "import shutil\n",
    "import os\n",
    "\n",
    "folder_path = \"../delta-data-tmp/copytest.db\"\n",
    "\n",
    "# Check if the folder exists\n",
    "if os.path.exists(folder_path):\n",
    "    # Delete the folder and all its contents\n",
    "    shutil.rmtree(folder_path)"
   ]
  },
  {
   "cell_type": "code",
   "execution_count": 3,
   "id": "5c8d4649",
   "metadata": {},
   "outputs": [],
   "source": [
    "%load_ext sparksql_magic"
   ]
  },
  {
   "cell_type": "code",
   "execution_count": 4,
   "id": "e23717c7",
   "metadata": {},
   "outputs": [
    {
     "data": {
      "text/html": [
       "<table><tr style=\"border-bottom: 1px solid\"></tr></table>"
      ],
      "text/plain": [
       "<IPython.core.display.HTML object>"
      ]
     },
     "execution_count": 4,
     "metadata": {},
     "output_type": "execute_result"
    }
   ],
   "source": [
    "%%sparksql\n",
    "CREATE SCHEMA IF NOT EXISTS copytest"
   ]
  },
  {
   "cell_type": "code",
   "execution_count": 5,
   "id": "8b7b73ee",
   "metadata": {},
   "outputs": [
    {
     "data": {
      "text/html": [
       "<table><tr style=\"border-bottom: 1px solid\"></tr></table>"
      ],
      "text/plain": [
       "<IPython.core.display.HTML object>"
      ]
     },
     "execution_count": 5,
     "metadata": {},
     "output_type": "execute_result"
    }
   ],
   "source": [
    "%%sparksql\n",
    "CREATE TABLE copytest.commercial_property(\n",
    "    `date` date,\n",
    "    property_id string,\n",
    "    street string,\n",
    "    street_number string,\n",
    "    city string,\n",
    "    zip_code string,\n",
    "    category string,\n",
    "    property_value double,\n",
    "    energy_label string\n",
    ")\n",
    "USING DELTA\n",
    "-- USING DELTA is required, otherwise it will default to hive and throw an error if hive is not enabled"
   ]
  },
  {
   "cell_type": "code",
   "execution_count": 6,
   "id": "46136673",
   "metadata": {},
   "outputs": [
    {
     "data": {
      "text/html": [
       "<table><tr style=\"border-bottom: 1px solid\"><td style=\"font-weight: bold\">col_name</td><td style=\"font-weight: bold\">data_type</td><td style=\"font-weight: bold\">comment</td></tr><tr><td>date</td><td>date</td><td>null</td></tr><tr><td>property_id</td><td>string</td><td>null</td></tr><tr><td>street</td><td>string</td><td>null</td></tr><tr><td>street_number</td><td>string</td><td>null</td></tr><tr><td>city</td><td>string</td><td>null</td></tr><tr><td>zip_code</td><td>string</td><td>null</td></tr><tr><td>category</td><td>string</td><td>null</td></tr><tr><td>property_value</td><td>double</td><td>null</td></tr><tr><td>energy_label</td><td>string</td><td>null</td></tr><tr><td></td><td></td><td></td></tr><tr><td># Detailed Table Information</td><td></td><td></td></tr><tr><td>Name</td><td>spark_catalog.copytest.commercial_property</td><td></td></tr><tr><td>Type</td><td>MANAGED</td><td></td></tr><tr><td>Location</td><td>file:/c:/Users/SjoerdvanNoort/ReposSVN/svn-local-spark/delta-data-tmp/copytest.db/commercial_property</td><td></td></tr><tr><td>Provider</td><td>delta</td><td></td></tr><tr><td>Table Properties</td><td>[delta.minReaderVersion=1,delta.minWriterVersion=2]</td><td></td></tr></table>"
      ],
      "text/plain": [
       "<IPython.core.display.HTML object>"
      ]
     },
     "execution_count": 6,
     "metadata": {},
     "output_type": "execute_result"
    }
   ],
   "source": [
    "%%sparksql \n",
    "DESCRIBE EXTENDED copytest.commercial_property"
   ]
  },
  {
   "cell_type": "code",
   "execution_count": 7,
   "id": "6477f5cd",
   "metadata": {},
   "outputs": [
    {
     "data": {
      "text/html": [
       "<table><tr style=\"border-bottom: 1px solid\"></tr></table>"
      ],
      "text/plain": [
       "<IPython.core.display.HTML object>"
      ]
     },
     "execution_count": 7,
     "metadata": {},
     "output_type": "execute_result"
    }
   ],
   "source": [
    "%%sparksql\n",
    "CREATE OR REPLACE TEMPORARY VIEW source_cp\n",
    "USING csv\n",
    "OPTIONS (\n",
    "  path '../resources/generated/commercial_property/2024/10/*',\n",
    "  header true,\n",
    "  inferSchema true\n",
    ")"
   ]
  },
  {
   "cell_type": "code",
   "execution_count": 8,
   "id": "a3dd442a",
   "metadata": {},
   "outputs": [
    {
     "data": {
      "text/html": [
       "<table><tr style=\"border-bottom: 1px solid\"></tr></table>"
      ],
      "text/plain": [
       "<IPython.core.display.HTML object>"
      ]
     },
     "execution_count": 8,
     "metadata": {},
     "output_type": "execute_result"
    }
   ],
   "source": [
    "%%sparksql\n",
    "WITH src as \n",
    "(SELECT *\n",
    ", input_file_name() as fn\n",
    ", locate(\"/commercial_property_snapshot_\",fn) as datepos\n",
    ", to_date(substring(fn,datepos + 30, 8), 'yyyyMMdd') as `date`\n",
    "FROM source_cp)\n",
    "INSERT INTO copytest.commercial_property \n",
    "SELECT `date`, property_id, street, street_number, city, zip_code, category, property_value, energy_label\n",
    "FROM src"
   ]
  },
  {
   "cell_type": "code",
   "execution_count": 14,
   "id": "8bd2fd9b",
   "metadata": {},
   "outputs": [
    {
     "data": {
      "text/html": [
       "<table><tr style=\"border-bottom: 1px solid\"></tr></table>"
      ],
      "text/plain": [
       "<IPython.core.display.HTML object>"
      ]
     },
     "execution_count": 14,
     "metadata": {},
     "output_type": "execute_result"
    }
   ],
   "source": [
    "%%sparksql\n",
    "DROP TABLE IF EXISTS copytest.commercial_propertyV2;\n"
   ]
  },
  {
   "cell_type": "code",
   "execution_count": null,
   "id": "e3082fcf",
   "metadata": {},
   "outputs": [
    {
     "data": {
      "text/html": [
       "<table><tr style=\"border-bottom: 1px solid\"></tr></table>"
      ],
      "text/plain": [
       "<IPython.core.display.HTML object>"
      ]
     },
     "execution_count": 15,
     "metadata": {},
     "output_type": "execute_result"
    }
   ],
   "source": [
    "%%sparksql\n",
    "-- CREATE TABLE AS SELECT does not work with CTE\n",
    "CREATE TABLE copytest.commercial_propertyV2\n",
    "USING delta\n",
    "AS SELECT property_id, street, street_number, city, zip_code, category, property_value, energy_label\n",
    "FROM  source_cp;"
   ]
  }
 ],
 "metadata": {
  "kernelspec": {
   "display_name": "Python 3",
   "language": "python",
   "name": "python3"
  },
  "language_info": {
   "codemirror_mode": {
    "name": "ipython",
    "version": 3
   },
   "file_extension": ".py",
   "mimetype": "text/x-python",
   "name": "python",
   "nbconvert_exporter": "python",
   "pygments_lexer": "ipython3",
   "version": "3.12.7"
  }
 },
 "nbformat": 4,
 "nbformat_minor": 5
}
