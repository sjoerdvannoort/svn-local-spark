{
 "cells": [
  {
   "cell_type": "code",
   "execution_count": 1,
   "id": "141ae2ef",
   "metadata": {},
   "outputs": [
    {
     "name": "stdout",
     "output_type": "stream",
     "text": [
      "spark 3.5.4 http://DESKTOP-4GOMK6M:4040\n"
     ]
    }
   ],
   "source": [
    "from pyspark.sql import SparkSession\n",
    "\n",
    "spark = SparkSession \\\n",
    "    .builder \\\n",
    "    .appName(\"SvnLocalSpark\") \\\n",
    "    .master(\"local\")\\\n",
    "    .config(\"spark.sql.parquet.int96RebaseModeInWrite\",\"CORRECTED\")\\\n",
    "    .config(\"spark.sql.parquet.datetimeRebaseModeInWrite\",\"CORRECTED\")\\\n",
    "    .getOrCreate()\n",
    "\n",
    "print(f\"spark {spark.version} {spark.sparkContext.uiWebUrl}\")"
   ]
  },
  {
   "cell_type": "code",
   "execution_count": 2,
   "id": "00efc642",
   "metadata": {},
   "outputs": [
    {
     "name": "stdout",
     "output_type": "stream",
     "text": [
      "root\n",
      " |-- name: string (nullable = true)\n",
      " |-- date1: string (nullable = true)\n",
      " |-- datetime1: string (nullable = true)\n",
      "\n",
      "+------+----------+--------------------------+\n",
      "|  name|     date1|                 datetime1|\n",
      "+------+----------+--------------------------+\n",
      "| first|2024-10-30|2024-11-02 23:11:20.562192|\n",
      "|second|2024-11-02|2024-11-04 02:01:03.001230|\n",
      "| third|1899-12-10|2024-11-04 03:42:11.501230|\n",
      "|fourth|1923-12-01|1899-12-10 03:45:31.654109|\n",
      "| fifth|1411-02-01|2024-12-31 23:59:59.999999|\n",
      "| sixth|0001-01-01|2024-12-31 23:59:59.999999|\n",
      "+------+----------+--------------------------+\n",
      "\n"
     ]
    }
   ],
   "source": [
    "# read csv, not inferring\n",
    "df = spark.read.option(\"header\", True).csv(\"../resources/sourcedata/test_dates.csv\")\n",
    "df.printSchema()\n",
    "df.show(truncate=30)"
   ]
  },
  {
   "cell_type": "code",
   "execution_count": 3,
   "id": "d832215d",
   "metadata": {},
   "outputs": [
    {
     "name": "stdout",
     "output_type": "stream",
     "text": [
      "root\n",
      " |-- name: string (nullable = true)\n",
      " |-- date1: date (nullable = true)\n",
      " |-- datetime1: timestamp (nullable = true)\n",
      "\n",
      "+------+----------+--------------------------+\n",
      "|  name|     date1|                 datetime1|\n",
      "+------+----------+--------------------------+\n",
      "| first|2024-10-30|2024-11-02 23:11:20.562192|\n",
      "|second|2024-11-02| 2024-11-04 02:01:03.00123|\n",
      "| third|1899-12-10| 2024-11-04 03:42:11.50123|\n",
      "|fourth|1923-12-01|1899-12-10 03:45:31.654109|\n",
      "| fifth|1411-02-01|2024-12-31 23:59:59.999999|\n",
      "| sixth|0001-01-01|2024-12-31 23:59:59.999999|\n",
      "+------+----------+--------------------------+\n",
      "\n"
     ]
    }
   ],
   "source": [
    "# read csv, inferring types\n",
    "df = spark.read.option(\"header\", True).option(\"inferSchema\", True).csv(\"../resources/sourcedata/test_dates.csv\")\n",
    "df.printSchema()\n",
    "df.show(truncate=30)"
   ]
  },
  {
   "cell_type": "code",
   "execution_count": 4,
   "id": "498c8b9a",
   "metadata": {},
   "outputs": [],
   "source": [
    "# save as parquet\n",
    "df.write.mode('overwrite')\\\n",
    "    .parquet(\"../resources/generated/write_test/test_dates.parquet\")"
   ]
  },
  {
   "cell_type": "code",
   "execution_count": 5,
   "id": "921e41d9",
   "metadata": {},
   "outputs": [
    {
     "name": "stdout",
     "output_type": "stream",
     "text": [
      "root\n",
      " |-- name: string (nullable = true)\n",
      " |-- date1: date (nullable = true)\n",
      " |-- datetime1: timestamp (nullable = true)\n",
      "\n",
      "+------+----------+--------------------------+\n",
      "|  name|     date1|                 datetime1|\n",
      "+------+----------+--------------------------+\n",
      "| first|2024-10-30|2024-11-02 23:11:20.562192|\n",
      "|second|2024-11-02| 2024-11-04 02:01:03.00123|\n",
      "| third|1899-12-10| 2024-11-04 03:42:11.50123|\n",
      "|fourth|1923-12-01|1899-12-10 03:45:31.654109|\n",
      "| fifth|1411-02-01|2024-12-31 23:59:59.999999|\n",
      "| sixth|0001-01-01|2024-12-31 23:59:59.999999|\n",
      "+------+----------+--------------------------+\n",
      "\n"
     ]
    }
   ],
   "source": [
    "# read from parquet\n",
    "rst = spark.read.parquet(\"../resources/generated/write_test/test_dates.parquet\")\n",
    "rst.printSchema()\n",
    "rst.show(truncate=30)"
   ]
  }
 ],
 "metadata": {
  "kernelspec": {
   "display_name": "Python 3",
   "language": "python",
   "name": "python3"
  },
  "language_info": {
   "codemirror_mode": {
    "name": "ipython",
    "version": 3
   },
   "file_extension": ".py",
   "mimetype": "text/x-python",
   "name": "python",
   "nbconvert_exporter": "python",
   "pygments_lexer": "ipython3",
   "version": "3.12.7"
  }
 },
 "nbformat": 4,
 "nbformat_minor": 5
}
